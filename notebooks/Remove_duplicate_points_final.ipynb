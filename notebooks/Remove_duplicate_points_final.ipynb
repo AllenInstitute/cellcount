{
 "cells": [
  {
   "cell_type": "code",
   "execution_count": null,
   "id": "arbitrary-catch",
   "metadata": {},
   "outputs": [],
   "source": [
    "from sklearn.neighbors import KDTree\n",
    "import numpy as np\n",
    "import random\n",
    "import dask.array as da\n",
    "import napari\n",
    "import pandas as pd\n",
    "import zarr\n",
    "\n",
    "%gui qt\n",
    "\n",
    "def remove_duplicate_points(coord_path, zarr_img_path, r=10):\n",
    "    \"\"\"\n",
    "    Removes points that redundantly mark the same cell as another point. Takes in the file path\n",
    "    to a .csv containing x-coordinates, y-coordinates, and the sizes of corresponding cells for\n",
    "    each point, the path to a .zarr image file and (optionally) the radius used to identify\n",
    "    points that are close together. Returns a list containing a numpy array of points that were\n",
    "    not removed from the input .csv and a numpy array of points that were removed from the input\n",
    "    .csv file.\n",
    "    \"\"\"\n",
    "    #coordinates from input csv\n",
    "    coord = np.loadtxt(coord_path, skiprows=1, delimiter=',')\n",
    "    #image slice from .zarr file\n",
    "    image = da.from_zarr(zarr_img_path)\n",
    "    \n",
    "    #removing points identifying cells smaller than 50 pixels\n",
    "    coord_df = pd.DataFrame(coord)\n",
    "    coord_df.columns = ['y', 'x', 'size']\n",
    "    size_over_50 = coord_df['size'] >= 50\n",
    "    coord_df = coord_df[size_over_50]\n",
    "    coord_s50 = coord_df.to_numpy()\n",
    "    \n",
    "    #finding points that are within a certain distance of each other\n",
    "    kdt = KDTree(coord_s50[:,:2], leaf_size=30, metric='euclidean')\n",
    "    close_points = []\n",
    "    close_set =[]\n",
    "    indices_to_drop = []\n",
    "    close = kdt.query_radius(coord_s50[:,:2], r)\n",
    "    for i in close:\n",
    "        if i.size > 1:\n",
    "            close_points.append(list(i))\n",
    "    for i in close_points:\n",
    "        if not i in close_set:\n",
    "            close_set.append(i)\n",
    "    #removing points that are too close together\n",
    "    for i in close_set:\n",
    "        while len(i)>1:\n",
    "            index = random.randrange(len(i))\n",
    "            indices_to_drop.append(i[index])\n",
    "            del i[index]\n",
    "    \n",
    "    coord_s50_clean = np.array([i for j, i in enumerate(coord_s50) if j not in indices_to_drop])\n",
    "    coord_s50_removed = np.array([i for j, i in enumerate(coord_s50) if j in indices_to_drop])\n",
    "    return [coord_s50_clean, coord_s50_removed];"
   ]
  }
 ],
 "metadata": {
  "kernelspec": {
   "display_name": "Python 3",
   "language": "python",
   "name": "python3"
  },
  "language_info": {
   "codemirror_mode": {
    "name": "ipython",
    "version": 3
   },
   "file_extension": ".py",
   "mimetype": "text/x-python",
   "name": "python",
   "nbconvert_exporter": "python",
   "pygments_lexer": "ipython3",
   "version": "3.8.8"
  }
 },
 "nbformat": 4,
 "nbformat_minor": 5
}
