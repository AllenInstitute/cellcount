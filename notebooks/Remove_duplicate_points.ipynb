{
 "cells": [
  {
   "cell_type": "code",
   "execution_count": 12,
   "metadata": {},
   "outputs": [],
   "source": [
    "from sklearn.neighbors import KDTree\n",
    "import numpy as np\n",
    "import random\n",
    "import dask.array as da\n",
    "import napari\n",
    "import pandas as pd\n",
    "import zarr\n",
    "\n",
    "%gui qt\n",
    "\n",
    "coord_path = 'C:/Users/cameron.trader/OneDrive - Allen Institute/Documents/Unet/0539049885-0072_r.csv'\n",
    "\n",
    "coord = np.loadtxt(coord_path, skiprows=1, delimiter=',')"
   ]
  },
  {
   "cell_type": "code",
   "execution_count": 13,
   "metadata": {},
   "outputs": [],
   "source": [
    "# z = zarr.open('C:/Users/camer/OneDrive - Allen Institute/Documents/Unet/0539050069-0035.zarr')\n",
    "# for i in range(z.shape[0] // 260):\n",
    "#     z[(i*260)-1:(i*260)+1, :, 0] = 5000\n",
    "# for i in range (z.shape[1] // 260):\n",
    "#     z[:, (i*260)-1:(i*260)+1, 0] = 5000\n",
    "# image = da.from_zarr(z)"
   ]
  },
  {
   "cell_type": "code",
   "execution_count": 14,
   "metadata": {},
   "outputs": [],
   "source": [
    "zarr_img_path = 'C:/Users/cameron.trader/OneDrive - Allen Institute/Documents/Unet/0539049885-0072.zarr'\n",
    "image = da.from_zarr(zarr_img_path)"
   ]
  },
  {
   "cell_type": "code",
   "execution_count": 15,
   "metadata": {},
   "outputs": [
    {
     "name": "stdout",
     "output_type": "stream",
     "text": [
      "(28898, 3)\n"
     ]
    }
   ],
   "source": [
    "coord_df = pd.DataFrame(coord)\n",
    "coord_df.columns = ['y', 'x', 'size']\n",
    "size_over_50 = coord_df['size'] >= 50\n",
    "coord_df = coord_df[size_over_50]\n",
    "# distance_from_grid = 25\n",
    "# buffer = 44\n",
    "# before_vert = (coord_df['x'] - buffer) % 260 <= distance_from_grid\n",
    "# after_vert = (coord_df['x'] - buffer) % 260 >= (260 - distance_from_grid)\n",
    "# before_horiz = (coord_df['y'] - buffer) % 260 <= distance_from_grid\n",
    "# after_horiz = (coord_df['y'] - buffer) % 260 >= (260 - distance_from_grid)\n",
    "# coord_df = coord_df[(before_horiz | after_horiz) | (before_vert | after_vert)]\n",
    "coord_s50 = coord_df.to_numpy()\n",
    "print(coord_s50.shape)"
   ]
  },
  {
   "cell_type": "code",
   "execution_count": 16,
   "metadata": {},
   "outputs": [
    {
     "name": "stdout",
     "output_type": "stream",
     "text": [
      "Close points are:  [[1454, 90], [1452, 91], [178, 2362], [337, 2594], [719, 472], [565, 811], [2767, 569], [819, 2891], [2994, 1038], [1720, 1512], [1739, 1527], [1959, 1772], [2117, 3640], [2693, 2480], [2712, 2502], [2690, 2844], [3028, 3167], [3119, 3277], [5277, 3639], [3804, 4034], [4020, 5458], [5555, 4227], [4228, 5552], [4229, 5551], [4316, 4434], [4407, 6179], [4460, 4678], [4721, 4506], [4774, 6491], [4850, 6932], [4925, 4978], [4988, 7160], [5599, 5806], [5819, 6075], [6253, 6158], [6267, 6419], [6457, 6305], [8560, 6341], [7059, 6909], [7063, 6916], [8984, 6927], [6928, 8979], [6929, 8981], [6931, 8983], [9593, 7075], [9594, 7076], [7193, 7103], [7431, 7574], [7664, 7592], [7774, 8000], [8026, 7812], [8072, 7861], [8090, 7889], [8163, 10641], [10640, 8164], [8165, 10638], [8509, 8602], [11774, 8721], [8738, 9063], [8763, 9158], [8834, 9336], [9452, 8902], [11946, 8975], [12415, 9591], [9592, 12413], [9953, 13252], [13253, 9954], [11472, 11270], [14152, 11338], [14153, 11339], [11595, 11415], [11439, 11437], [15033, 11496], [15034, 11497], [11752, 11859], [12047, 12559], [12226, 12785], [12825, 12262], [12342, 12928], [12972, 12391], [12411, 15619], [12412, 15618], [13196, 13025], [13223, 13172], [13372, 13451], [13991, 13832], [17374, 14008], [14069, 14458], [14307, 15077], [15115, 14465], [14743, 15196], [17744, 15031], [15283, 18552], [18553, 15284], [15614, 18857], [15746, 16090], [15767, 16123], [16451, 16666], [16563, 19143], [21396, 17373], [17538, 18164], [17742, 21646], [17743, 21644], [22315, 18549], [18885, 18985], [18900, 19056], [18915, 19100], [19306, 19032], [19322, 19045], [19141, 22783], [19151, 19429], [19212, 19507], [22907, 19418], [19844, 20098], [23059, 20054], [23371, 20159], [23903, 20672], [23904, 20673], [24350, 21134], [24351, 21135], [21136, 21402], [21195, 21436], [21316, 21469], [21485, 21630], [21510, 21859], [22257, 21610], [21642, 24980], [22775, 22797], [22973, 22841], [22906, 26113], [23055, 23367], [23250, 23553], [23637, 23301], [26510, 23771], [23772, 26511], [23874, 24120], [24126, 24340], [26809, 24153], [24429, 24662], [27262, 24602], [24852, 27437], [24853, 27436], [25266, 24918], [24925, 25295], [25404, 24955], [25455, 27705], [25953, 25724], [25744, 28061], [26270, 26167], [26356, 26572], [26599, 26361], [26776, 26833], [26966, 26841], [27109, 26932], [26957, 28503], [27088, 27334], [27258, 28520], [28521, 27259], [27260, 28518], [28522, 27261], [27434, 28624], [28732, 27594], [28058, 28234], [28238, 28777], [28450, 28362], [28652, 28738], [28834, 28772]]\n",
      "167 points to be removed: [1454, 1452, 178, 337, 719, 811, 569, 2891, 2994, 1720, 1527, 1772, 3640, 2693, 2712, 2690, 3028, 3277, 5277, 4034, 5458, 4227, 5552, 5551, 4316, 4407, 4460, 4506, 6491, 6932, 4978, 7160, 5806, 6075, 6253, 6419, 6305, 6341, 7059, 6916, 6927, 6928, 6929, 8983, 7075, 7076, 7103, 7431, 7592, 8000, 8026, 7861, 7889, 10641, 8164, 8165, 8509, 8721, 8738, 9158, 8834, 8902, 11946, 9591, 9592, 9953, 9954, 11472, 14152, 11339, 11595, 11437, 11496, 15034, 11859, 12047, 12785, 12262, 12928, 12391, 15619, 12412, 13025, 13172, 13372, 13991, 17374, 14069, 14307, 14465, 15196, 15031, 15283, 15284, 15614, 16090, 16123, 16451, 16563, 17373, 18164, 21646, 21644, 18549, 18885, 18900, 19100, 19032, 19322, 19141, 19429, 19212, 19418, 20098, 23059, 20159, 23903, 23904, 24350, 21135, 21136, 21195, 21316, 21485, 21510, 21610, 24980, 22775, 22973, 22906, 23055, 23553, 23301, 26510, 26511, 24120, 24340, 26809, 24662, 27262, 24852, 27436, 25266, 24925, 25404, 25455, 25724, 25744, 26167, 26356, 26361, 26776, 26841, 26932, 28503, 27334, 27258, 28521, 28518, 28522, 27434, 28732, 28058, 28238, 28450, 28738, 28772]\n",
      "167 points removed\n"
     ]
    }
   ],
   "source": [
    "kdt = KDTree(coord_s50[:,:2], leaf_size=30, metric='euclidean')\n",
    "\n",
    "close_points = []\n",
    "close_set =[]\n",
    "indices_to_drop = []\n",
    "\n",
    "close = kdt.query_radius(coord_s50[:,:2], r=10)\n",
    "for i in close:\n",
    "    if i.size > 1:\n",
    "        close_points.append(list(i))\n",
    "for i in close_points:\n",
    "    if not i in close_set:\n",
    "        close_set.append(i)\n",
    "print(\"Close points are: \", str(close_set))\n",
    "for i in close_set:\n",
    "    while len(i)>1:\n",
    "        index = random.randrange(len(i))\n",
    "        indices_to_drop.append(i[index])\n",
    "        del i[index]\n",
    "\n",
    "print(str(len(indices_to_drop)),\"points to be removed:\", str(indices_to_drop))\n",
    "# print(\"These points are located at:\")\n",
    "# np.set_printoptions(suppress=True)\n",
    "# for i in indices_to_drop:\n",
    "#     print(coord[indices_to_drop])\n",
    "# np.set_printoptions(suppress=False)\n",
    "coord_s50_clean = np.array([i for j, i in enumerate(coord_s50) if j not in indices_to_drop])\n",
    "coord_s50_removed = np.array([i for j, i in enumerate(coord_s50) if j in indices_to_drop])\n",
    "\n",
    "print(str(coord_s50.shape[0]-coord_s50_clean.shape[0]), \"points removed\")"
   ]
  },
  {
   "cell_type": "code",
   "execution_count": 17,
   "metadata": {},
   "outputs": [],
   "source": [
    "# buffer = 44\n",
    "\n",
    "# vectors = np.zeros((image.shape[0]//260 + image.shape[1]//260, 2, 2))\n",
    "# vectors[:115,0,0] =+ 1\n",
    "# vectors[:115,:,0] = vectors[:115,:,0] * np.vstack(np.arange(image.shape[0]//260)) * 260 + buffer\n",
    "# vectors[:115,1,0] = 0\n",
    "# vectors[:115,1,1] = image.shape[0]\n",
    "\n",
    "# vectors[115:,0,1] =+ 1\n",
    "# vectors[115:,0,1] = vectors[115:,0,1] * np.arange(image.shape[1]//260) * 260 + buffer\n",
    "# vectors[115:,1,0] = image.shape[0]"
   ]
  },
  {
   "cell_type": "code",
   "execution_count": 19,
   "metadata": {},
   "outputs": [
    {
     "name": "stderr",
     "output_type": "stream",
     "text": [
      "C:\\Users\\cameron.trader\\Anaconda3\\envs\\napari\\lib\\site-packages\\napari\\_vispy\\vispy_image_layer.py:198: UserWarning: data shape (30000, 40000) exceeds GL_MAX_TEXTURE_SIZE 32768 in at least one axis and will be downsampled. Rendering is currently in 2D mode.\n",
      "  warnings.warn(\n"
     ]
    },
    {
     "data": {
      "text/plain": [
       "<Points layer 'Points [2]' at 0x1be4b181520>"
      ]
     },
     "execution_count": 19,
     "metadata": {},
     "output_type": "execute_result"
    }
   ],
   "source": [
    "viewer = napari.view_image(image[:, :, 0], name='slice')\n",
    "viewer.add_points(coord_s50_clean[:, :2], size=2, face_color='red')\n",
    "# viewer.add_points(coord_s50_removed_15[:, :2], size=2, face_color='blue')\n",
    "# viewer.add_points(coord_s50_removed_15[:, :2], size=200, face_color='blue')\n",
    "viewer.add_points(coord_s50_removed[:, :2], size=2, face_color='yellow')\n",
    "viewer.add_points(coord_s50_removed[:, :2], size=200, face_color='yellow')\n",
    "# viewer.add_vectors(vectors, edge_width=3)"
   ]
  },
  {
   "cell_type": "code",
   "execution_count": 45,
   "metadata": {},
   "outputs": [
    {
     "ename": "NameError",
     "evalue": "name 'coord_clean' is not defined",
     "output_type": "error",
     "traceback": [
      "\u001b[1;31m---------------------------------------------------------------------------\u001b[0m",
      "\u001b[1;31mNameError\u001b[0m                                 Traceback (most recent call last)",
      "\u001b[1;32m<ipython-input-45-46fe252638a3>\u001b[0m in \u001b[0;36m<module>\u001b[1;34m\u001b[0m\n\u001b[1;32m----> 1\u001b[1;33m \u001b[0mnp\u001b[0m\u001b[1;33m.\u001b[0m\u001b[0msavetxt\u001b[0m\u001b[1;33m(\u001b[0m\u001b[1;34m'/Users/elyse.morin/OneDrive - Allen Institute/Transgenic_Technology_Elyse/Projects/Unet_test_output/547656/csv/0539050069-0035_r_clean.csv'\u001b[0m\u001b[1;33m,\u001b[0m \u001b[0mcoord_clean\u001b[0m\u001b[1;33m,\u001b[0m \u001b[0mdelimiter\u001b[0m\u001b[1;33m=\u001b[0m\u001b[1;34m\",\"\u001b[0m\u001b[1;33m)\u001b[0m\u001b[1;33m\u001b[0m\u001b[1;33m\u001b[0m\u001b[0m\n\u001b[0m\u001b[0;32m      2\u001b[0m \u001b[1;33m\u001b[0m\u001b[0m\n\u001b[0;32m      3\u001b[0m \u001b[0mnp\u001b[0m\u001b[1;33m.\u001b[0m\u001b[0msavetxt\u001b[0m\u001b[1;33m(\u001b[0m\u001b[1;34m'/Users/elyse.morin/OneDrive - Allen Institute/Transgenic_Technology_Elyse/Projects/Unet_test_output/547656/csv/0539050069-0035_r_removed.csv'\u001b[0m\u001b[1;33m,\u001b[0m \u001b[0mcoord_removed\u001b[0m\u001b[1;33m,\u001b[0m \u001b[0mdelimiter\u001b[0m\u001b[1;33m=\u001b[0m\u001b[1;34m\",\"\u001b[0m\u001b[1;33m)\u001b[0m\u001b[1;33m\u001b[0m\u001b[1;33m\u001b[0m\u001b[0m\n",
      "\u001b[1;31mNameError\u001b[0m: name 'coord_clean' is not defined"
     ]
    }
   ],
   "source": [
    "np.savetxt('/Users/elyse.morin/OneDrive - Allen Institute/Transgenic_Technology_Elyse/Projects/Unet_test_output/547656/csv/0539050069-0035_r_clean.csv', coord_clean, delimiter=\",\")\n",
    "\n",
    "np.savetxt('/Users/elyse.morin/OneDrive - Allen Institute/Transgenic_Technology_Elyse/Projects/Unet_test_output/547656/csv/0539050069-0035_r_removed.csv', coord_removed, delimiter=\",\")"
   ]
  },
  {
   "cell_type": "code",
   "execution_count": null,
   "metadata": {},
   "outputs": [],
   "source": []
  }
 ],
 "metadata": {
  "kernelspec": {
   "display_name": "Python 3",
   "language": "python",
   "name": "python3"
  },
  "language_info": {
   "codemirror_mode": {
    "name": "ipython",
    "version": 3
   },
   "file_extension": ".py",
   "mimetype": "text/x-python",
   "name": "python",
   "nbconvert_exporter": "python",
   "pygments_lexer": "ipython3",
   "version": "3.8.8"
  }
 },
 "nbformat": 4,
 "nbformat_minor": 2
}
