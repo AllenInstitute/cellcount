{
 "metadata": {
  "language_info": {
   "codemirror_mode": {
    "name": "ipython",
    "version": 3
   },
   "file_extension": ".py",
   "mimetype": "text/x-python",
   "name": "python",
   "nbconvert_exporter": "python",
   "pygments_lexer": "ipython3",
   "version": "3.8.5-final"
  },
  "orig_nbformat": 2,
  "kernelspec": {
   "name": "python3",
   "display_name": "Python 3",
   "language": "python"
  }
 },
 "nbformat": 4,
 "nbformat_minor": 2,
 "cells": [
  {
   "cell_type": "code",
   "execution_count": 1,
   "metadata": {},
   "outputs": [],
   "source": [
    "import os\n",
    "import glob\n",
    "import zarr\n",
    "import numpy as np\n",
    "import dask.array as da\n",
    "import napari\n",
    "\n",
    "%gui qt"
   ]
  },
  {
   "cell_type": "code",
   "execution_count": 2,
   "metadata": {},
   "outputs": [],
   "source": [
    "slice_n = '0105'\n",
    "labtracks_id = '546117'\n",
    "\n",
    "csv_path = str('/allen/programs/celltypes/workgroups/mct-t200/Molecular_Genetics_Daigle_Team/Elyse/Unet_WB_testing/'+labtracks_id+'/csv/')\n",
    "zarr_img_path = str('/allen/programs/celltypes/workgroups/mct-t200/Molecular_Genetics_Daigle_Team/Elyse/Unet_WB_testing/'+labtracks_id+'/')\n",
    "\n",
    "#get barcode/zarr file prefix\n",
    "files = glob.glob(str(zarr_img_path+'*.zarr'))\n",
    "head, tail = os.path.split(files[0])\n",
    "barcode = tail.split('-')[0]\n",
    "\n",
    "#read coordinates\n",
    "g_orig = np.loadtxt(str(csv_path+'/'+barcode+'-'+slice_n+'_g.csv'), skiprows=1, delimiter=',')\n",
    "r_orig = np.loadtxt(str(csv_path+'/'+barcode+'-'+slice_n+'_r.csv'), skiprows=1, delimiter=',')\n",
    "\n",
    "#get image\n",
    "image = da.from_zarr(str(zarr_img_path+'/'+barcode+'-'+slice_n+'.zarr'))"
   ]
  },
  {
   "cell_type": "code",
   "execution_count": 3,
   "metadata": {},
   "outputs": [],
   "source": [
    "#set reasonable threshold for n\n",
    "g_coord = g_orig[g_orig[:,2]>=50][:,:2]\n",
    "r_coord = r_orig[r_orig[:,2]>=50][:,:2]"
   ]
  },
  {
   "source": [
    "Napari viewing options"
   ],
   "cell_type": "markdown",
   "metadata": {}
  },
  {
   "cell_type": "code",
   "execution_count": 4,
   "metadata": {},
   "outputs": [
    {
     "output_type": "execute_result",
     "data": {
      "text/plain": [
       "<Points layer 'r_coord' at 0x16452bc40>"
      ]
     },
     "metadata": {},
     "execution_count": 4
    }
   ],
   "source": [
    "#view composite image with red and green labels\n",
    "viewer = napari.view_image(image, name='slice')\n",
    "viewer.add_points(g_coord, size=5, face_color='lime',edge_color='lime')\n",
    "viewer.add_points(r_coord, size=5, face_color='red',edge_color='red')"
   ]
  },
  {
   "cell_type": "code",
   "execution_count": 6,
   "metadata": {},
   "outputs": [
    {
     "output_type": "execute_result",
     "data": {
      "text/plain": [
       "<Points layer 'r_coord' at 0x1b1a57190>"
      ]
     },
     "metadata": {},
     "execution_count": 6
    }
   ],
   "source": [
    "#view red image with red labels\n",
    "viewer = napari.view_image(image[:,:,0], name='red_image')\n",
    "viewer.add_points(r_coord, size=5, face_color='red',edge_color='red')"
   ]
  },
  {
   "cell_type": "code",
   "execution_count": null,
   "metadata": {},
   "outputs": [],
   "source": [
    "#view green image with green labels\n",
    "viewer = napari.view_image(image[:,:,1], name='green_image')\n",
    "viewer.add_points(g_coord, size=5, face_color='lime',edge_color='lime')"
   ]
  }
 ]
}