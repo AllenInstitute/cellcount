{
 "cells": [
  {
   "cell_type": "code",
   "execution_count": 6,
   "metadata": {},
   "outputs": [],
   "source": [
    "from sklearn.neighbors import KDTree\n",
    "import numpy as np\n",
    "import random\n",
    "import dask.array as da\n",
    "import napari\n",
    "import pandas as pd\n",
    "import zarr\n",
    "\n",
    "%gui qt\n",
    "\n",
    "coord_path = 'C:/Users/camer/OneDrive - Allen Institute/Documents/Unet/0539050069-0035_r.csv'\n",
    "\n",
    "coord = np.loadtxt(coord_path, skiprows=1, delimiter=',')"
   ]
  },
  {
   "cell_type": "code",
   "execution_count": 27,
   "metadata": {},
   "outputs": [],
   "source": [
    "z = zarr.open('C:/Users/camer/OneDrive - Allen Institute/Documents/Unet/0539050069-0035.zarr')\n",
    "for i in range(z.shape[0] // 2048):\n",
    "    z[(i*2048)-1:(i*2048)+1, :, 0] = 5000\n",
    "for i in range (z.shape[1] // 2048):\n",
    "    z[:, (i*2048)-1:(i*2048)+1, 0] = 5000\n",
    "image = da.from_zarr(z)"
   ]
  },
  {
   "cell_type": "code",
   "execution_count": 28,
   "metadata": {},
   "outputs": [],
   "source": [
    "# zarr_img_path = 'C:/Users/camer/OneDrive - Allen Institute/Documents/Unet/0539050069-0035.zarr'\n",
    "# image = da.from_zarr(zarr_img_path)"
   ]
  },
  {
   "cell_type": "code",
   "execution_count": 29,
   "metadata": {},
   "outputs": [
    {
     "name": "stdout",
     "output_type": "stream",
     "text": [
      "(1433, 3)\n"
     ]
    }
   ],
   "source": [
    "coord_df = pd.DataFrame(coord)\n",
    "coord_df.columns = ['y', 'x', 'size']\n",
    "size_over_50 = coord_df['size'] >= 50\n",
    "coord_df = coord_df[size_over_50]\n",
    "distance_from_2048 = 50\n",
    "before_vert = coord_df['x'] % 2048 <= distance_from_2048\n",
    "after_vert = coord_df['x'] % 2048 >= (2048 - distance_from_2048)\n",
    "before_horiz = coord_df['y'] % 2048 <= distance_from_2048\n",
    "after_horiz = coord_df['y'] % 2048 >= (2048 - distance_from_2048)\n",
    "coord_df = coord_df[(before_horiz | after_horiz) | (before_vert | after_vert)]\n",
    "coord_s50 = coord_df.to_numpy()\n",
    "print(coord_s50.shape)"
   ]
  },
  {
   "cell_type": "code",
   "execution_count": 30,
   "metadata": {},
   "outputs": [
    {
     "name": "stdout",
     "output_type": "stream",
     "text": [
      "Close points are:  [[137, 172], [171, 322], [346, 185], [646, 887]]\n",
      "4 points to be removed: [172, 322, 185, 646]\n",
      "4 points removed\n"
     ]
    }
   ],
   "source": [
    "kdt = KDTree(coord_s50[:,:2], leaf_size=30, metric='euclidean')\n",
    "\n",
    "close_points = []\n",
    "close_set =[]\n",
    "indices_to_drop = []\n",
    "\n",
    "close = kdt.query_radius(coord_s50[:,:2], r=15) \n",
    "for i in close:\n",
    "    if i.size > 1:\n",
    "        close_points.append(list(i))\n",
    "for i in close_points:\n",
    "    if not i in close_set:\n",
    "        close_set.append(i)\n",
    "print(\"Close points are: \", str(close_set))\n",
    "for i in close_set:\n",
    "    while len(i)>1:\n",
    "        index = random.randrange(len(i))\n",
    "        indices_to_drop.append(i[index])\n",
    "        del i[index]\n",
    "\n",
    "print(str(len(indices_to_drop)),\"points to be removed:\", str(indices_to_drop))\n",
    "# print(\"These points are located at:\")\n",
    "# np.set_printoptions(suppress=True)\n",
    "# for i in indices_to_drop:\n",
    "#     print(coord[indices_to_drop])\n",
    "# np.set_printoptions(suppress=False)\n",
    "coord_s50_clean = np.array([i for j, i in enumerate(coord_s50) if j not in indices_to_drop])\n",
    "coord_s50_removed = np.array([i for j, i in enumerate(coord_s50) if j in indices_to_drop])\n",
    "\n",
    "print(str(coord_s50.shape[0]-coord_s50_clean.shape[0]), \"points removed\")"
   ]
  },
  {
   "cell_type": "code",
   "execution_count": 32,
   "metadata": {},
   "outputs": [
    {
     "name": "stderr",
     "output_type": "stream",
     "text": [
      "C:\\Users\\camer\\anaconda3\\envs\\napari\\lib\\site-packages\\napari\\_vispy\\vispy_image_layer.py:198: UserWarning: data shape (30000, 40000) exceeds GL_MAX_TEXTURE_SIZE 16384 in at least one axis and will be downsampled. Rendering is currently in 2D mode.\n",
      "  warnings.warn(\n"
     ]
    },
    {
     "data": {
      "text/plain": [
       "<Points layer 'Points [1]' at 0x17125b81b20>"
      ]
     },
     "execution_count": 32,
     "metadata": {},
     "output_type": "execute_result"
    }
   ],
   "source": [
    "viewer = napari.view_image(image[:, :, 0], name='slice')\n",
    "viewer.add_points(coord_s50_removed[:, :2], size=20, face_color='yellow')\n",
    "viewer.add_points(coord_s50_clean[:, :2], size=10, face_color='red')"
   ]
  },
  {
   "cell_type": "code",
   "execution_count": 276,
   "metadata": {},
   "outputs": [],
   "source": [
    "np.savetxt('/Users/elyse.morin/OneDrive - Allen Institute/Transgenic_Technology_Elyse/Projects/Unet_test_output/547656/csv/0539050069-0035_r_clean.csv', coord_clean, delimiter=\",\")\n",
    "\n",
    "np.savetxt('/Users/elyse.morin/OneDrive - Allen Institute/Transgenic_Technology_Elyse/Projects/Unet_test_output/547656/csv/0539050069-0035_r_removed.csv', coord_removed, delimiter=\",\")"
   ]
  }
 ],
 "metadata": {
  "kernelspec": {
   "display_name": "Python 3",
   "language": "python",
   "name": "python3"
  },
  "language_info": {
   "codemirror_mode": {
    "name": "ipython",
    "version": 3
   },
   "file_extension": ".py",
   "mimetype": "text/x-python",
   "name": "python",
   "nbconvert_exporter": "python",
   "pygments_lexer": "ipython3",
   "version": "3.8.8"
  }
 },
 "nbformat": 4,
 "nbformat_minor": 2
}
