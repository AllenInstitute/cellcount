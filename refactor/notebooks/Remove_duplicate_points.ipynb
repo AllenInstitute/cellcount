{
 "metadata": {
  "language_info": {
   "codemirror_mode": {
    "name": "ipython",
    "version": 3
   },
   "file_extension": ".py",
   "mimetype": "text/x-python",
   "name": "python",
   "nbconvert_exporter": "python",
   "pygments_lexer": "ipython3",
   "version": "3.8.5-final"
  },
  "orig_nbformat": 2,
  "kernelspec": {
   "name": "python3",
   "display_name": "Python 3"
  }
 },
 "nbformat": 4,
 "nbformat_minor": 2,
 "cells": [
  {
   "cell_type": "code",
   "execution_count": 278,
   "metadata": {},
   "outputs": [],
   "source": [
    "from sklearn.neighbors import KDTree\n",
    "import numpy as np\n",
    "import random\n",
    "\n",
    "coord_path = '/Users/elyse.morin/OneDrive - Allen Institute/Transgenic_Technology_Elyse/Projects/Unet_test_output/547656/csv/0539050069-0035_r.csv'\n",
    "\n",
    "coord = np.loadtxt(coord_path, skiprows=1, delimiter=',')"
   ]
  },
  {
   "cell_type": "code",
   "execution_count": 275,
   "metadata": {},
   "outputs": [
    {
     "output_type": "stream",
     "name": "stdout",
     "text": [
      "Close points are:  [[15172, 15173], [16419, 16420]]\n2 points to be removed: [15173, 16420]\n2 points removed\n"
     ]
    }
   ],
   "source": [
    "kdt = KDTree(coord[:,:2], leaf_size=30, metric='euclidean')\n",
    "\n",
    "close_points = []\n",
    "close_set =[]\n",
    "indices_to_drop = []\n",
    "\n",
    "close = kdt.query_radius(coord[:,:2], r=3) \n",
    "for i in close:\n",
    "    if i.size > 1:\n",
    "        close_points.append(list(i))\n",
    "for i in close_points:\n",
    "    if not i in close_set:\n",
    "        close_set.append(i)\n",
    "print(\"Close points are: \", str(close_set))\n",
    "for i in close_set:\n",
    "    while len(i)>1:\n",
    "        index = random.randrange(len(i))\n",
    "        indices_to_drop.append(i[index])\n",
    "        del i[index]\n",
    "\n",
    "print(str(len(indices_to_drop)),\"points to be removed:\", str(indices_to_drop))\n",
    "\n",
    "coord_clean = np.array([i for j, i in enumerate(coord) if j not in indices_to_drop])\n",
    "coord_removed = np.array([i for j, i in enumerate(coord) if j in indices_to_drop])\n",
    "\n",
    "print(str(coord.shape[0]-coord_clean.shape[0]), \"points removed\")"
   ]
  },
  {
   "cell_type": "code",
   "execution_count": 276,
   "metadata": {},
   "outputs": [],
   "source": [
    "np.savetxt('/Users/elyse.morin/OneDrive - Allen Institute/Transgenic_Technology_Elyse/Projects/Unet_test_output/547656/csv/0539050069-0035_r_clean.csv', coord_clean, delimiter=\",\")\n",
    "\n",
    "np.savetxt('/Users/elyse.morin/OneDrive - Allen Institute/Transgenic_Technology_Elyse/Projects/Unet_test_output/547656/csv/0539050069-0035_r_removed.csv', coord_removed, delimiter=\",\")"
   ]
  }
 ]
}