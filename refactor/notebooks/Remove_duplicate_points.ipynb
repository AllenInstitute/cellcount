{
 "cells": [
  {
   "cell_type": "code",
   "execution_count": 1,
   "metadata": {},
   "outputs": [],
   "source": [
    "from sklearn.neighbors import KDTree\n",
    "import numpy as np\n",
    "import random\n",
    "import dask.array as da\n",
    "import napari\n",
    "import pandas as pd\n",
    "import zarr\n",
    "\n",
    "%gui qt\n",
    "\n",
    "coord_path = 'C:/Users/camer/OneDrive - Allen Institute/Documents/Unet/0539050069-0035_r.csv'\n",
    "\n",
    "coord = np.loadtxt(coord_path, skiprows=1, delimiter=',')"
   ]
  },
  {
   "cell_type": "code",
   "execution_count": 2,
   "metadata": {},
   "outputs": [],
   "source": [
    "z = zarr.open('C:/Users/camer/OneDrive - Allen Institute/Documents/Unet/0539050069-0035.zarr')\n",
    "for i in range(z.shape[0] // 260):\n",
    "    z[(i*260)-1:(i*260)+1, :, 0] = 5000\n",
    "for i in range (z.shape[1] // 260):\n",
    "    z[:, (i*260)-1:(i*260)+1, 0] = 5000\n",
    "image = da.from_zarr(z)"
   ]
  },
  {
   "cell_type": "code",
   "execution_count": 28,
   "metadata": {},
   "outputs": [],
   "source": [
    "# zarr_img_path = 'C:/Users/camer/OneDrive - Allen Institute/Documents/Unet/0539050069-0035.zarr'\n",
    "# image = da.from_zarr(zarr_img_path)"
   ]
  },
  {
   "cell_type": "code",
   "execution_count": 3,
   "metadata": {},
   "outputs": [
    {
     "name": "stdout",
     "output_type": "stream",
     "text": [
      "(9509, 3)\n"
     ]
    }
   ],
   "source": [
    "coord_df = pd.DataFrame(coord)\n",
    "coord_df.columns = ['y', 'x', 'size']\n",
    "size_over_50 = coord_df['size'] >= 50\n",
    "coord_df = coord_df[size_over_50]\n",
    "distance_from_2048 = 50\n",
    "before_vert = coord_df['x'] % 260 <= distance_from_2048\n",
    "after_vert = coord_df['x'] % 260 >= (260 - distance_from_2048)\n",
    "before_horiz = coord_df['y'] % 260 <= distance_from_2048\n",
    "after_horiz = coord_df['y'] % 260 >= (260 - distance_from_2048)\n",
    "coord_df = coord_df[(before_horiz | after_horiz) | (before_vert | after_vert)]\n",
    "coord_s50 = coord_df.to_numpy()\n",
    "print(coord_s50.shape)"
   ]
  },
  {
   "cell_type": "code",
   "execution_count": 4,
   "metadata": {},
   "outputs": [
    {
     "name": "stdout",
     "output_type": "stream",
     "text": [
      "Close points are:  [[1122, 80], [647, 782], [1652, 774], [2066, 962], [986, 1136], [1121, 2409], [1279, 2564], [1373, 2733], [1752, 1818], [1851, 3088], [1997, 2144], [2063, 3181], [2064, 3180], [2216, 3265], [2372, 2377], [2561, 3754], [2741, 2819], [3416, 4790], [3541, 4948], [3886, 3764], [4126, 4129], [5664, 4222], [4465, 4307], [4469, 5795], [4652, 4515], [6007, 4525], [4526, 6006], [4661, 6154], [4772, 4899], [6435, 4947], [5225, 5226], [5409, 5484], [5415, 5514], [5728, 7127], [5869, 5755], [6135, 5979], [6260, 7473], [6539, 6670], [6559, 7663], [6735, 6737], [6942, 7977], [7981, 7093], [7355, 7493], [7544, 7609], [7857, 7856], [8033, 8068], [8685, 8109], [8143, 8201], [9070, 8463], [8503, 8569], [9032, 8979], [9012, 9075]]\n",
      "52 points to be removed: [80, 782, 774, 2066, 1136, 1121, 1279, 2733, 1752, 1851, 1997, 3181, 3180, 2216, 2372, 3754, 2741, 3416, 3541, 3886, 4129, 4222, 4465, 4469, 4652, 6007, 6006, 4661, 4772, 6435, 5225, 5409, 5514, 7127, 5869, 6135, 6260, 6539, 6559, 6735, 6942, 7093, 7493, 7544, 7856, 8068, 8109, 8143, 9070, 8503, 9032, 9012]\n",
      "52 points removed\n"
     ]
    }
   ],
   "source": [
    "kdt = KDTree(coord_s50[:,:2], leaf_size=30, metric='euclidean')\n",
    "\n",
    "close_points = []\n",
    "close_set =[]\n",
    "indices_to_drop = []\n",
    "\n",
    "close = kdt.query_radius(coord_s50[:,:2], r=15) \n",
    "for i in close:\n",
    "    if i.size > 1:\n",
    "        close_points.append(list(i))\n",
    "for i in close_points:\n",
    "    if not i in close_set:\n",
    "        close_set.append(i)\n",
    "print(\"Close points are: \", str(close_set))\n",
    "for i in close_set:\n",
    "    while len(i)>1:\n",
    "        index = random.randrange(len(i))\n",
    "        indices_to_drop.append(i[index])\n",
    "        del i[index]\n",
    "\n",
    "print(str(len(indices_to_drop)),\"points to be removed:\", str(indices_to_drop))\n",
    "# print(\"These points are located at:\")\n",
    "# np.set_printoptions(suppress=True)\n",
    "# for i in indices_to_drop:\n",
    "#     print(coord[indices_to_drop])\n",
    "# np.set_printoptions(suppress=False)\n",
    "coord_s50_clean = np.array([i for j, i in enumerate(coord_s50) if j not in indices_to_drop])\n",
    "coord_s50_removed = np.array([i for j, i in enumerate(coord_s50) if j in indices_to_drop])\n",
    "\n",
    "print(str(coord_s50.shape[0]-coord_s50_clean.shape[0]), \"points removed\")"
   ]
  },
  {
   "cell_type": "code",
   "execution_count": 5,
   "metadata": {},
   "outputs": [
    {
     "name": "stderr",
     "output_type": "stream",
     "text": [
      "C:\\Users\\camer\\anaconda3\\envs\\napari\\lib\\site-packages\\napari\\_vispy\\vispy_image_layer.py:198: UserWarning: data shape (30000, 40000) exceeds GL_MAX_TEXTURE_SIZE 16384 in at least one axis and will be downsampled. Rendering is currently in 2D mode.\n",
      "  warnings.warn(\n"
     ]
    },
    {
     "data": {
      "text/plain": [
       "<Points layer 'Points [1]' at 0x16c03244a60>"
      ]
     },
     "execution_count": 5,
     "metadata": {},
     "output_type": "execute_result"
    }
   ],
   "source": [
    "viewer = napari.view_image(image[:, :, 0], name='slice')\n",
    "viewer.add_points(coord_s50_removed[:, :2], size=20, face_color='yellow')\n",
    "viewer.add_points(coord_s50_clean[:, :2], size=10, face_color='red')"
   ]
  },
  {
   "cell_type": "code",
   "execution_count": 276,
   "metadata": {},
   "outputs": [],
   "source": [
    "np.savetxt('/Users/elyse.morin/OneDrive - Allen Institute/Transgenic_Technology_Elyse/Projects/Unet_test_output/547656/csv/0539050069-0035_r_clean.csv', coord_clean, delimiter=\",\")\n",
    "\n",
    "np.savetxt('/Users/elyse.morin/OneDrive - Allen Institute/Transgenic_Technology_Elyse/Projects/Unet_test_output/547656/csv/0539050069-0035_r_removed.csv', coord_removed, delimiter=\",\")"
   ]
  }
 ],
 "metadata": {
  "kernelspec": {
   "display_name": "Python 3",
   "language": "python",
   "name": "python3"
  },
  "language_info": {
   "codemirror_mode": {
    "name": "ipython",
    "version": 3
   },
   "file_extension": ".py",
   "mimetype": "text/x-python",
   "name": "python",
   "nbconvert_exporter": "python",
   "pygments_lexer": "ipython3",
   "version": "3.8.8"
  }
 },
 "nbformat": 4,
 "nbformat_minor": 2
}
