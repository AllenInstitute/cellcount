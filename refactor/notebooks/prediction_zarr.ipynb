{
 "cells": [
  {
   "cell_type": "markdown",
   "metadata": {},
   "source": [
    "### Prediction with trained model\n",
    "\n",
    "1. Loads a model\n",
    "2. Load weights from a checkpoint\n",
    "3. Load zarr dataset for prediction (patch generation is handled by this class)\n",
    "4. Perform prediction\n",
    "5. Perform checks on subtiles\n",
    "5. Write results to csv"
   ]
  },
  {
   "cell_type": "code",
   "execution_count": 1,
   "metadata": {},
   "outputs": [],
   "source": [
    "import torch\n",
    "def gpu_mem_stats():\n",
    "    t = torch.cuda.get_device_properties(0).total_memory\n",
    "    c = torch.cuda.memory_reserved(0)\n",
    "    a = torch.cuda.memory_allocated(0)\n",
    "    print(f'{t/(1024**3):0.2f} Gb Total memory')\n",
    "    print(f'{c/(1024**3):0.2f} Gb cached memory')\n",
    "    print(f'{a/(1024**3):0.2f} Gb allocated memory')\n",
    "    return"
   ]
  },
  {
   "cell_type": "code",
   "execution_count": 2,
   "metadata": {},
   "outputs": [
    {
     "name": "stdout",
     "output_type": "stream",
     "text": [
      "Validation loss was 1.10335231\n"
     ]
    }
   ],
   "source": [
    "import sys\n",
    "from pathlib import Path\n",
    "\n",
    "#Add path to parent folder for imports\n",
    "sys.path.append(str(Path.cwd().parent))\n",
    "\n",
    "import torch\n",
    "from torch.utils.data import DataLoader\n",
    "from utils.data import Pred_Ai224_RG_Zarr,Pred_Sampler_Zarr\n",
    "from models.unet import Ai224_RG_UNet\n",
    "from utils.analysis import pred_to_xy\n",
    "from tqdm import tqdm\n",
    "import matplotlib.pyplot as plt\n",
    "import seaborn as sns\n",
    "sns.set()\n",
    "\n",
    "#Load model\n",
    "device = torch.device('cuda:0' if torch.cuda.is_available() else 'cpu')\n",
    "tensor = lambda x: torch.tensor(x).to(dtype=torch.float32).to(device)\n",
    "tensor_ = lambda x: torch.as_tensor(x).to(dtype=torch.float32).to(device)\n",
    "tonumpy = lambda x: x.cpu().detach().numpy()\n",
    "\n",
    "model = Ai224_RG_UNet()\n",
    "ckpt_file = '../../../dat/Ai224_RG_models/CE_wt244_Adam_run_v3_norm/44587_ckpt.pt'\n",
    "checkpoint = torch.load(ckpt_file,map_location=device)\n",
    "model.load_state_dict(checkpoint['model_state_dict'])\n",
    "loss = checkpoint['loss']\n",
    "\n",
    "model.to(device)\n",
    "print(f'Validation loss was {loss:0.8f}')"
   ]
  },
  {
   "cell_type": "code",
   "execution_count": 3,
   "metadata": {},
   "outputs": [
    {
     "name": "stdout",
     "output_type": "stream",
     "text": [
      "10.92 Gb Total memory\n",
      "0.01 Gb cached memory\n",
      "0.01 Gb allocated memory\n"
     ]
    }
   ],
   "source": [
    "gpu_mem_stats()"
   ]
  },
  {
   "cell_type": "code",
   "execution_count": 4,
   "metadata": {},
   "outputs": [],
   "source": [
    "patch_size=260\n",
    "output_size = 172\n",
    "scale = 255.\n",
    "n_x_patch_per_subtile = 10\n",
    "n_y_patch_per_subtile = 10\n",
    "batch_size = n_x_patch_per_subtile*n_y_patch_per_subtile\n",
    "\n",
    "im_path = '/home/rohan/Remote-AI-root/allen/programs/celltypes/workgroups/mct-t200/Molecular_Genetics_Daigle_Team/Elyse/Unet_WB_testing/547656/'\n",
    "fname = '0539050069-0070.zarr'\n",
    "csv_path = '/home/rohan/Remote-AI-root/allen/programs/celltypes/workgroups/mct-t200/Molecular_Genetics_Daigle_Team/Elyse/Unet_WB_testing/547656/csv/'\n",
    "csv_path = './'\n",
    "csv_fname_g = fname.replace('.zarr','_g.csv')\n",
    "csv_fname_r = fname.replace('.zarr','_r.csv')\n",
    "\n",
    "pred_dataset = Pred_Ai224_RG_Zarr(patch_size = patch_size,\n",
    "                             output_size = output_size,\n",
    "                             im_path=im_path,\n",
    "                             fname=fname,\n",
    "                             scale=scale)\n",
    "\n",
    "pred_sampler = Pred_Sampler_Zarr(dataset=pred_dataset, \n",
    "                                 n_x_patch_per_subtile=n_x_patch_per_subtile, \n",
    "                                 n_y_patch_per_subtile=n_y_patch_per_subtile)\n",
    "\n",
    "pred_dataloader = DataLoader(pred_dataset, batch_size=batch_size, shuffle=False,\n",
    "                            sampler=pred_sampler, drop_last=False, pin_memory=True)\n",
    "\n",
    "pred_datagen = iter(pred_dataloader)"
   ]
  },
  {
   "cell_type": "code",
   "execution_count": 5,
   "metadata": {},
   "outputs": [],
   "source": [
    "#Empty subtile for labels:\n",
    "n_labels = 3\n",
    "n_channels = 2\n",
    "x_size = pred_dataset.output_size*pred_sampler.n_x_patch_per_subtile\n",
    "y_size = pred_dataset.output_size*pred_sampler.n_y_patch_per_subtile\n",
    "output_size = pred_dataset.output_size\n",
    "offset = int((pred_dataset.patch_size - pred_dataset.output_size)/2)"
   ]
  },
  {
   "cell_type": "code",
   "execution_count": 6,
   "metadata": {},
   "outputs": [
    {
     "name": "stderr",
     "output_type": "stream",
     "text": [
      "100%|██████████| 9/9 [00:17<00:00,  1.99s/it]\n"
     ]
    }
   ],
   "source": [
    "pred_g = np.empty(shape=[n_labels,x_size, y_size],dtype=float)\n",
    "pred_r = np.empty(shape=[n_labels,x_size, y_size],dtype=float)\n",
    "\n",
    "input_im = np.empty(shape=[n_channels,x_size, y_size],dtype=float)\n",
    "g_list,r_list = [],[]\n",
    "\n",
    "#Set model in eval mode\n",
    "model.eval()\n",
    "\n",
    "for i in tqdm(range(len(pred_datagen))):\n",
    "    batch = next(pred_datagen)\n",
    "    with torch.no_grad():\n",
    "        xg,xr,_,_ = model(tensor_(batch['im']))\n",
    "    xg = tonumpy(xg)\n",
    "    xr = tonumpy(xr)\n",
    "    \n",
    "    for j in range(batch['idx'].shape[0]):\n",
    "        subtile_ind = tonumpy(batch['idx'][0])\n",
    "        ind = tonumpy(batch['idx'][j]) - subtile_ind\n",
    "        input_im[:,ind[0]:ind[0]+output_size,ind[1]:ind[1]+output_size] = tonumpy(batch['im'][j])[:,offset:-offset,offset:-offset]\n",
    "        pred_g[:,ind[0]:ind[0]+output_size,ind[1]:ind[1]+output_size] = xg[j]\n",
    "        pred_r[:,ind[0]:ind[0]+output_size,ind[1]:ind[1]+output_size] = xr[j]\n",
    "    \n",
    "    del xg,xr,batch\n",
    "    com_g,n_elem_g = pred_to_xy(fg=np.squeeze(pred_g[2,:,:]),bo=np.squeeze(pred_g[1,:,:]),pred_thr=0.5,n_elem_thr=5)\n",
    "    com_r,n_elem_r = pred_to_xy(fg=np.squeeze(pred_r[2,:,:]),bo=np.squeeze(pred_r[1,:,:]),pred_thr=0.5,n_elem_thr=5)\n",
    "    \n",
    "    #Convert patch co-ordinates into global co-ordinates\n",
    "    global_com_g = com_g + subtile_ind.reshape(1,2) + offset\n",
    "    global_com_r = com_r + subtile_ind.reshape(1,2) + offset\n",
    "    g_list.append(global_com_g)\n",
    "    r_list.append(global_com_r)\n",
    "    \n",
    "    #Write to file\n",
    "    df_g = pd.DataFrame({'x':global_com_g[:,0],'y':global_com_g[:,1],'n':n_elem_g})\n",
    "    df_r = pd.DataFrame({'x':global_com_r[:,0],'y':global_com_r[:,1],'n':n_elem_r})\n",
    "    \n",
    "    \n",
    "    if i>0:\n",
    "        df_g.to_csv(csv_fname_g, mode='a', header=False, index=False)\n",
    "        df_r.to_csv(csv_fname_r, mode='a', header=False, index=False)\n",
    "    else:\n",
    "        df_g.to_csv(csv_fname_g, mode='w', header=True, index=False)\n",
    "        df_r.to_csv(csv_fname_r, mode='w', header=True, index=False)\n",
    "\n",
    "com_g = np.concatenate(g_list,axis=0)\n",
    "com_r = np.concatenate(r_list,axis=0)"
   ]
  },
  {
   "cell_type": "code",
   "execution_count": null,
   "metadata": {},
   "outputs": [],
   "source": [
    "plt.figure(figsize=(20,20))\n",
    "plt.imshow(np.squeeze(pred_dataset.IM[:,:,0])/(2**16),vmin=0,vmax=0.005)\n",
    "plt.plot(com_g[:,1],com_g[:,0],'x',color='#ffffff')\n",
    "plt.plot(com_r[:,1],com_r[:,0],'o',color='#00ff00',markerfacecolor='None')\n",
    "plt.grid(False)\n",
    "plt.show()"
   ]
  },
  {
   "cell_type": "markdown",
   "metadata": {},
   "source": [
    "#### Remove potential duplicates from entire tile\n",
    " - These would mostly occur along shared edges of subtiles. "
   ]
  },
  {
   "cell_type": "code",
   "execution_count": null,
   "metadata": {},
   "outputs": [],
   "source": [
    "# #TODO\n",
    "# from sklearn.metrics import pairwise_distances\n",
    "# d = pairwise_distances(X=com_gt, Y=com, metric='euclidean')\n",
    "# ind_tp_in_gt = np.any(d<cell_radius,axis=1)\n",
    "# ind_tp_in_pred = np.any(d<cell_radius,axis=0)"
   ]
  },
  {
   "cell_type": "code",
   "execution_count": 19,
   "metadata": {},
   "outputs": [
    {
     "ename": "AttributeError",
     "evalue": "type object 'Path' has no attribute 'listdir'",
     "output_type": "error",
     "traceback": [
      "\u001b[0;31m---------------------------------------------------------------------------\u001b[0m",
      "\u001b[0;31mAttributeError\u001b[0m                            Traceback (most recent call last)",
      "\u001b[0;32m<ipython-input-19-6f2dee380c35>\u001b[0m in \u001b[0;36m<module>\u001b[0;34m\u001b[0m\n\u001b[0;32m----> 1\u001b[0;31m \u001b[0mx\u001b[0m \u001b[0;34m=\u001b[0m \u001b[0mPath\u001b[0m\u001b[0;34m.\u001b[0m\u001b[0mlistdir\u001b[0m\u001b[0;34m(\u001b[0m\u001b[0mim_path\u001b[0m\u001b[0;34m,\u001b[0m\u001b[0;34m'*.zarr'\u001b[0m\u001b[0;34m)\u001b[0m\u001b[0;34m\u001b[0m\u001b[0;34m\u001b[0m\u001b[0m\n\u001b[0m",
      "\u001b[0;31mAttributeError\u001b[0m: type object 'Path' has no attribute 'listdir'"
     ]
    }
   ],
   "source": [
    "x = Path.iterdir()\n",
    "(im_path,'*.zarr')"
   ]
  },
  {
   "cell_type": "code",
   "execution_count": 30,
   "metadata": {},
   "outputs": [],
   "source": [
    "x = Path.iterdir(im_path)"
   ]
  },
  {
   "cell_type": "code",
   "execution_count": 31,
   "metadata": {},
   "outputs": [
    {
     "ename": "AttributeError",
     "evalue": "'str' object has no attribute '_closed'",
     "output_type": "error",
     "traceback": [
      "\u001b[0;31m---------------------------------------------------------------------------\u001b[0m",
      "\u001b[0;31mAttributeError\u001b[0m                            Traceback (most recent call last)",
      "\u001b[0;32m<ipython-input-31-c1c708d34f18>\u001b[0m in \u001b[0;36m<module>\u001b[0;34m\u001b[0m\n\u001b[0;32m----> 1\u001b[0;31m \u001b[0;32mfor\u001b[0m \u001b[0mi\u001b[0m \u001b[0;32min\u001b[0m \u001b[0mx\u001b[0m\u001b[0;34m:\u001b[0m \u001b[0mprint\u001b[0m\u001b[0;34m(\u001b[0m\u001b[0mi\u001b[0m\u001b[0;34m)\u001b[0m\u001b[0;34m\u001b[0m\u001b[0;34m\u001b[0m\u001b[0m\n\u001b[0m",
      "\u001b[0;32m~/miniconda3/envs/torch16/lib/python3.7/pathlib.py\u001b[0m in \u001b[0;36miterdir\u001b[0;34m(self)\u001b[0m\n\u001b[1;32m   1098\u001b[0m         \u001b[0mresult\u001b[0m \u001b[0;32mfor\u001b[0m \u001b[0mthe\u001b[0m \u001b[0mspecial\u001b[0m \u001b[0mpaths\u001b[0m \u001b[0;34m'.'\u001b[0m \u001b[0;32mand\u001b[0m \u001b[0;34m'..'\u001b[0m\u001b[0;34m.\u001b[0m\u001b[0;34m\u001b[0m\u001b[0;34m\u001b[0m\u001b[0m\n\u001b[1;32m   1099\u001b[0m         \"\"\"\n\u001b[0;32m-> 1100\u001b[0;31m         \u001b[0;32mif\u001b[0m \u001b[0mself\u001b[0m\u001b[0;34m.\u001b[0m\u001b[0m_closed\u001b[0m\u001b[0;34m:\u001b[0m\u001b[0;34m\u001b[0m\u001b[0;34m\u001b[0m\u001b[0m\n\u001b[0m\u001b[1;32m   1101\u001b[0m             \u001b[0mself\u001b[0m\u001b[0;34m.\u001b[0m\u001b[0m_raise_closed\u001b[0m\u001b[0;34m(\u001b[0m\u001b[0;34m)\u001b[0m\u001b[0;34m\u001b[0m\u001b[0;34m\u001b[0m\u001b[0m\n\u001b[1;32m   1102\u001b[0m         \u001b[0;32mfor\u001b[0m \u001b[0mname\u001b[0m \u001b[0;32min\u001b[0m \u001b[0mself\u001b[0m\u001b[0;34m.\u001b[0m\u001b[0m_accessor\u001b[0m\u001b[0;34m.\u001b[0m\u001b[0mlistdir\u001b[0m\u001b[0;34m(\u001b[0m\u001b[0mself\u001b[0m\u001b[0;34m)\u001b[0m\u001b[0;34m:\u001b[0m\u001b[0;34m\u001b[0m\u001b[0;34m\u001b[0m\u001b[0m\n",
      "\u001b[0;31mAttributeError\u001b[0m: 'str' object has no attribute '_closed'"
     ]
    }
   ],
   "source": [
    "for i in x: print(i)"
   ]
  },
  {
   "cell_type": "code",
   "execution_count": 41,
   "metadata": {},
   "outputs": [
    {
     "ename": "AttributeError",
     "evalue": "'str' object has no attribute 'stat'",
     "output_type": "error",
     "traceback": [
      "\u001b[0;31m---------------------------------------------------------------------------\u001b[0m",
      "\u001b[0;31mAttributeError\u001b[0m                            Traceback (most recent call last)",
      "\u001b[0;32m<ipython-input-41-57fb888a35bb>\u001b[0m in \u001b[0;36m<module>\u001b[0;34m\u001b[0m\n\u001b[0;32m----> 1\u001b[0;31m \u001b[0mPath\u001b[0m\u001b[0;34m.\u001b[0m\u001b[0mis_file\u001b[0m\u001b[0;34m(\u001b[0m\u001b[0;34m'/home/rohan/Remote-AI-root/allen/programs/celltypes/workgroups/mct-t200/Molecular_Genetics_Daigle_Team/Elyse/Unet_WB_testing/547656/0539050069-0001.zarr'\u001b[0m\u001b[0;34m)\u001b[0m\u001b[0;34m\u001b[0m\u001b[0;34m\u001b[0m\u001b[0m\n\u001b[0m",
      "\u001b[0;32m~/miniconda3/envs/torch16/lib/python3.7/pathlib.py\u001b[0m in \u001b[0;36mis_file\u001b[0;34m(self)\u001b[0m\n\u001b[1;32m   1380\u001b[0m         \"\"\"\n\u001b[1;32m   1381\u001b[0m         \u001b[0;32mtry\u001b[0m\u001b[0;34m:\u001b[0m\u001b[0;34m\u001b[0m\u001b[0;34m\u001b[0m\u001b[0m\n\u001b[0;32m-> 1382\u001b[0;31m             \u001b[0;32mreturn\u001b[0m \u001b[0mS_ISREG\u001b[0m\u001b[0;34m(\u001b[0m\u001b[0mself\u001b[0m\u001b[0;34m.\u001b[0m\u001b[0mstat\u001b[0m\u001b[0;34m(\u001b[0m\u001b[0;34m)\u001b[0m\u001b[0;34m.\u001b[0m\u001b[0mst_mode\u001b[0m\u001b[0;34m)\u001b[0m\u001b[0;34m\u001b[0m\u001b[0;34m\u001b[0m\u001b[0m\n\u001b[0m\u001b[1;32m   1383\u001b[0m         \u001b[0;32mexcept\u001b[0m \u001b[0mOSError\u001b[0m \u001b[0;32mas\u001b[0m \u001b[0me\u001b[0m\u001b[0;34m:\u001b[0m\u001b[0;34m\u001b[0m\u001b[0;34m\u001b[0m\u001b[0m\n\u001b[1;32m   1384\u001b[0m             \u001b[0;32mif\u001b[0m \u001b[0;32mnot\u001b[0m \u001b[0m_ignore_error\u001b[0m\u001b[0;34m(\u001b[0m\u001b[0me\u001b[0m\u001b[0;34m)\u001b[0m\u001b[0;34m:\u001b[0m\u001b[0;34m\u001b[0m\u001b[0;34m\u001b[0m\u001b[0m\n",
      "\u001b[0;31mAttributeError\u001b[0m: 'str' object has no attribute 'stat'"
     ]
    }
   ],
   "source": [
    "Path.is_file('/home/rohan/Remote-AI-root/allen/programs/celltypes/workgroups/mct-t200/Molecular_Genetics_Daigle_Team/Elyse/Unet_WB_testing/547656/0539050069-0001.zarr')"
   ]
  },
  {
   "cell_type": "code",
   "execution_count": 40,
   "metadata": {},
   "outputs": [
    {
     "data": {
      "text/plain": [
       "'/home/rohan/Remote-AI-root/allen/programs/celltypes/workgroups/mct-t200/Molecular_Genetics_Daigle_Team/Elyse/Unet_WB_testing/547656/0539050069-0001.zarr'"
      ]
     },
     "execution_count": 40,
     "metadata": {},
     "output_type": "execute_result"
    }
   ],
   "source": [
    "im_path+'0539050069-0001.zarr'"
   ]
  },
  {
   "cell_type": "code",
   "execution_count": 43,
   "metadata": {},
   "outputs": [
    {
     "ename": "AttributeError",
     "evalue": "'str' object has no attribute 'stat'",
     "output_type": "error",
     "traceback": [
      "\u001b[0;31m---------------------------------------------------------------------------\u001b[0m",
      "\u001b[0;31mAttributeError\u001b[0m                            Traceback (most recent call last)",
      "\u001b[0;32m<ipython-input-43-d888dbe75b64>\u001b[0m in \u001b[0;36m<module>\u001b[0;34m\u001b[0m\n\u001b[0;32m----> 1\u001b[0;31m \u001b[0mPath\u001b[0m\u001b[0;34m.\u001b[0m\u001b[0mis_file\u001b[0m\u001b[0;34m(\u001b[0m\u001b[0;34m'./prediction.ipynb'\u001b[0m\u001b[0;34m)\u001b[0m\u001b[0;34m\u001b[0m\u001b[0;34m\u001b[0m\u001b[0m\n\u001b[0m",
      "\u001b[0;32m~/miniconda3/envs/torch16/lib/python3.7/pathlib.py\u001b[0m in \u001b[0;36mis_file\u001b[0;34m(self)\u001b[0m\n\u001b[1;32m   1380\u001b[0m         \"\"\"\n\u001b[1;32m   1381\u001b[0m         \u001b[0;32mtry\u001b[0m\u001b[0;34m:\u001b[0m\u001b[0;34m\u001b[0m\u001b[0;34m\u001b[0m\u001b[0m\n\u001b[0;32m-> 1382\u001b[0;31m             \u001b[0;32mreturn\u001b[0m \u001b[0mS_ISREG\u001b[0m\u001b[0;34m(\u001b[0m\u001b[0mself\u001b[0m\u001b[0;34m.\u001b[0m\u001b[0mstat\u001b[0m\u001b[0;34m(\u001b[0m\u001b[0;34m)\u001b[0m\u001b[0;34m.\u001b[0m\u001b[0mst_mode\u001b[0m\u001b[0;34m)\u001b[0m\u001b[0;34m\u001b[0m\u001b[0;34m\u001b[0m\u001b[0m\n\u001b[0m\u001b[1;32m   1383\u001b[0m         \u001b[0;32mexcept\u001b[0m \u001b[0mOSError\u001b[0m \u001b[0;32mas\u001b[0m \u001b[0me\u001b[0m\u001b[0;34m:\u001b[0m\u001b[0;34m\u001b[0m\u001b[0;34m\u001b[0m\u001b[0m\n\u001b[1;32m   1384\u001b[0m             \u001b[0;32mif\u001b[0m \u001b[0;32mnot\u001b[0m \u001b[0m_ignore_error\u001b[0m\u001b[0;34m(\u001b[0m\u001b[0me\u001b[0m\u001b[0;34m)\u001b[0m\u001b[0;34m:\u001b[0m\u001b[0;34m\u001b[0m\u001b[0;34m\u001b[0m\u001b[0m\n",
      "\u001b[0;31mAttributeError\u001b[0m: 'str' object has no attribute 'stat'"
     ]
    }
   ],
   "source": [
    "Path.is_file('./prediction.ipynb')"
   ]
  },
  {
   "cell_type": "code",
   "execution_count": 48,
   "metadata": {},
   "outputs": [],
   "source": [
    "x = Path(im_path).glob('**/*')"
   ]
  },
  {
   "cell_type": "code",
   "execution_count": 50,
   "metadata": {},
   "outputs": [],
   "source": [
    "a = next(x)"
   ]
  },
  {
   "cell_type": "code",
   "execution_count": 53,
   "metadata": {},
   "outputs": [
    {
     "data": {
      "text/plain": [
       "True"
      ]
     },
     "execution_count": 53,
     "metadata": {},
     "output_type": "execute_result"
    }
   ],
   "source": [
    "a.is_dir()"
   ]
  },
  {
   "cell_type": "code",
   "execution_count": 58,
   "metadata": {},
   "outputs": [],
   "source": []
  },
  {
   "cell_type": "code",
   "execution_count": 59,
   "metadata": {},
   "outputs": [
    {
     "data": {
      "text/plain": [
       "['0539050069-0001.zarr',\n",
       " '0539050069-0002.zarr',\n",
       " '0539050069-0003.zarr',\n",
       " '0539050069-0004.zarr',\n",
       " '0539050069-0005.zarr',\n",
       " '0539050069-0006.zarr',\n",
       " '0539050069-0007.zarr',\n",
       " '0539050069-0008.zarr',\n",
       " '0539050069-0009.zarr',\n",
       " '0539050069-0010.zarr',\n",
       " '0539050069-0011.zarr',\n",
       " '0539050069-0012.zarr',\n",
       " '0539050069-0013.zarr',\n",
       " '0539050069-0014.zarr',\n",
       " '0539050069-0015.zarr',\n",
       " '0539050069-0016.zarr',\n",
       " '0539050069-0017.zarr',\n",
       " '0539050069-0018.zarr',\n",
       " '0539050069-0019.zarr',\n",
       " '0539050069-0020.zarr',\n",
       " '0539050069-0021.zarr',\n",
       " '0539050069-0022.zarr',\n",
       " '0539050069-0023.zarr',\n",
       " '0539050069-0024.zarr',\n",
       " '0539050069-0025.zarr',\n",
       " '0539050069-0026.zarr',\n",
       " '0539050069-0027.zarr',\n",
       " '0539050069-0028.zarr',\n",
       " '0539050069-0029.zarr',\n",
       " '0539050069-0030.zarr',\n",
       " '0539050069-0031.zarr',\n",
       " '0539050069-0032.zarr',\n",
       " '0539050069-0033.zarr',\n",
       " '0539050069-0034.zarr',\n",
       " '0539050069-0035.zarr',\n",
       " '0539050069-0036.zarr',\n",
       " '0539050069-0037.zarr',\n",
       " '0539050069-0038.zarr',\n",
       " '0539050069-0039.zarr',\n",
       " '0539050069-0040.zarr',\n",
       " '0539050069-0041.zarr',\n",
       " '0539050069-0042.zarr',\n",
       " '0539050069-0043.zarr',\n",
       " '0539050069-0044.zarr',\n",
       " '0539050069-0045.zarr',\n",
       " '0539050069-0046.zarr',\n",
       " '0539050069-0047.zarr',\n",
       " '0539050069-0048.zarr',\n",
       " '0539050069-0049.zarr',\n",
       " '0539050069-0050.zarr',\n",
       " '0539050069-0051.zarr',\n",
       " '0539050069-0052.zarr',\n",
       " '0539050069-0053.zarr',\n",
       " '0539050069-0054.zarr',\n",
       " '0539050069-0055.zarr',\n",
       " '0539050069-0056.zarr',\n",
       " '0539050069-0057.zarr',\n",
       " '0539050069-0058.zarr',\n",
       " '0539050069-0059.zarr',\n",
       " '0539050069-0060.zarr',\n",
       " '0539050069-0061.zarr',\n",
       " '0539050069-0062.zarr',\n",
       " '0539050069-0063.zarr',\n",
       " '0539050069-0064.zarr',\n",
       " '0539050069-0065.zarr',\n",
       " '0539050069-0066.zarr',\n",
       " '0539050069-0067.zarr',\n",
       " '0539050069-0068.zarr',\n",
       " '0539050069-0069.zarr',\n",
       " '0539050069-0070.zarr',\n",
       " '0539050069-0071.zarr',\n",
       " '0539050069-0072.zarr',\n",
       " '0539050069-0073.zarr',\n",
       " '0539050069-0074.zarr',\n",
       " '0539050069-0075.zarr',\n",
       " '0539050069-0076.zarr',\n",
       " '0539050069-0077.zarr',\n",
       " '0539050069-0078.zarr',\n",
       " '0539050069-0079.zarr',\n",
       " '0539050069-0080.zarr',\n",
       " '0539050069-0081.zarr',\n",
       " '0539050069-0082.zarr',\n",
       " '0539050069-0083.zarr',\n",
       " '0539050069-0084.zarr',\n",
       " '0539050069-0085.zarr',\n",
       " '0539050069-0086.zarr',\n",
       " '0539050069-0087.zarr',\n",
       " '0539050069-0088.zarr',\n",
       " '0539050069-0089.zarr',\n",
       " '0539050069-0090.zarr',\n",
       " '0539050069-0091.zarr',\n",
       " '0539050069-0092.zarr',\n",
       " '0539050069-0093.zarr',\n",
       " '0539050069-0094.zarr',\n",
       " '0539050069-0095.zarr',\n",
       " '0539050069-0096.zarr',\n",
       " '0539050069-0097.zarr',\n",
       " '0539050069-0098.zarr',\n",
       " '0539050069-0099.zarr',\n",
       " '0539050069-0100.zarr',\n",
       " '0539050069-0101.zarr',\n",
       " '0539050069-0102.zarr',\n",
       " '0539050069-0103.zarr',\n",
       " '0539050069-0104.zarr',\n",
       " '0539050069-0105.zarr',\n",
       " '0539050069-0106.zarr',\n",
       " '0539050069-0107.zarr',\n",
       " '0539050069-0108.zarr',\n",
       " '0539050069-0109.zarr',\n",
       " '0539050069-0110.zarr',\n",
       " '0539050069-0111.zarr',\n",
       " '0539050069-0112.zarr',\n",
       " '0539050069-0113.zarr',\n",
       " '0539050069-0114.zarr',\n",
       " '0539050069-0115.zarr',\n",
       " '0539050069-0116.zarr',\n",
       " '0539050069-0117.zarr',\n",
       " '0539050069-0118.zarr',\n",
       " '0539050069-0119.zarr',\n",
       " '0539050069-0120.zarr',\n",
       " '0539050069-0121.zarr',\n",
       " '0539050069-0122.zarr',\n",
       " '0539050069-0123.zarr',\n",
       " '0539050069-0124.zarr',\n",
       " '0539050069-0125.zarr',\n",
       " '0539050069-0126.zarr',\n",
       " '0539050069-0127.zarr',\n",
       " '0539050069-0128.zarr',\n",
       " '0539050069-0129.zarr',\n",
       " '0539050069-0130.zarr',\n",
       " '0539050069-0131.zarr',\n",
       " '0539050069-0132.zarr',\n",
       " '0539050069-0133.zarr',\n",
       " '0539050069-0134.zarr',\n",
       " '0539050069-0135.zarr',\n",
       " '0539050069-0136.zarr',\n",
       " '0539050069-0137.zarr',\n",
       " '0539050069-0138.zarr',\n",
       " '0539050069-0139.zarr',\n",
       " '0539050069-0140.zarr']"
      ]
     },
     "execution_count": 59,
     "metadata": {},
     "output_type": "execute_result"
    }
   ],
   "source": [
    "fname_list"
   ]
  },
  {
   "cell_type": "code",
   "execution_count": null,
   "metadata": {},
   "outputs": [],
   "source": []
  }
 ],
 "metadata": {
  "kernelspec": {
   "display_name": "Python 3",
   "language": "python",
   "name": "python3"
  },
  "language_info": {
   "codemirror_mode": {
    "name": "ipython",
    "version": 3
   },
   "file_extension": ".py",
   "mimetype": "text/x-python",
   "name": "python",
   "nbconvert_exporter": "python",
   "pygments_lexer": "ipython3",
   "version": "3.7.7"
  }
 },
 "nbformat": 4,
 "nbformat_minor": 4
}
