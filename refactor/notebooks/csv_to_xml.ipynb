{
 "metadata": {
  "language_info": {
   "codemirror_mode": {
    "name": "ipython",
    "version": 3
   },
   "file_extension": ".py",
   "mimetype": "text/x-python",
   "name": "python",
   "nbconvert_exporter": "python",
   "pygments_lexer": "ipython3",
   "version": "3.8.5-final"
  },
  "orig_nbformat": 2,
  "kernelspec": {
   "name": "python3",
   "display_name": "Python 3"
  }
 },
 "nbformat": 4,
 "nbformat_minor": 2,
 "cells": [
  {
   "cell_type": "code",
   "execution_count": 215,
   "metadata": {},
   "outputs": [],
   "source": [
    "from lxml import etree\n",
    "import csv\n",
    "import os"
   ]
  },
  {
   "cell_type": "code",
   "execution_count": 226,
   "metadata": {
    "tags": []
   },
   "outputs": [],
   "source": [
    "green_path = '/Users/elyse.morin/OneDrive - Allen Institute/Transgenic_Technology_Elyse/Projects/Ai224 annotations_MW 7.2020/529690_1030079321_0100_tile_9_10_green.csv'\n",
    "red_path = '/Users/elyse.morin/OneDrive - Allen Institute/Transgenic_Technology_Elyse/Projects/Ai224 annotations_MW 7.2020/529690_1030079321_0100_tile_9_10_red.csv'\n",
    "\n",
    "fname = os.path.basename(green_path)\n",
    "image_file = str(fname.split('_green')[0]+ '.tif')\n",
    "\n",
    "root=etree.Element('CellCounter_Marker_File')\n",
    "tree=etree.ElementTree(root)\n",
    "image_prop = etree.Element('Image_Properties')\n",
    "image_fname = etree.Element('Image_Filename')\n",
    "root.append(image_prop)\n",
    "image_prop.append(image_fname)\n",
    "image_fname.text=image_file\n",
    "\n",
    "marker_data = etree.Element('Marker_Data')\n",
    "root.append(marker_data)\n",
    "current_type1 = etree.Element('Current_Type')\n",
    "marker_data.append(current_type1)\n",
    "current_type1.text='1'\n",
    "marker_type1 = etree.Element('Marker_Type')\n",
    "marker_data.append(marker_type1)\n",
    "type1 = etree.Element('Type')\n",
    "type1.text = '1'\n",
    "marker_type1.append(type1)\n",
    "\n",
    "with open(green_path) as f:\n",
    "    reader = csv.DictReader(f)\n",
    "    for row in reader:\n",
    "        del row['']\n",
    "        row['MarkerX'] = row['x']\n",
    "        row['MarkerY'] = row['y']\n",
    "        del row['x']\n",
    "        del row['y']\n",
    "        row['Markerz'] = 1\n",
    "        surface_elem = etree.SubElement(marker_type1, \"Marker\")\n",
    "        for elem_name, elem_value in row.items():\n",
    "            etree.SubElement(surface_elem, elem_name.strip()).text = str(elem_value)\n",
    "\n",
    "marker_type2 = etree.Element('Marker_Type')\n",
    "marker_data.append(marker_type2)\n",
    "type2 = etree.Element('Type')\n",
    "type2.text = '2'\n",
    "marker_type2.append(type2)\n",
    "\n",
    "with open(red_path) as f:\n",
    "    reader = csv.DictReader(f)\n",
    "    for row in reader:\n",
    "        del row['']\n",
    "        row['MarkerX'] = row['x']\n",
    "        row['MarkerY'] = row['y']\n",
    "        del row['x']\n",
    "        del row['y']\n",
    "        row['Markerz'] = 1\n",
    "        surface_elem = etree.SubElement(marker_type2, \"Marker\")\n",
    "        for elem_name, elem_value in row.items():\n",
    "            etree.SubElement(surface_elem, elem_name.strip()).text = str(elem_value)\n",
    "\n",
    "tree.write(open('/Users/elyse.morin/Desktop/test.xml','wb'), pretty_print=True,encoding='UTF-8',xml_declaration=True)"
   ]
  }
 ]
}