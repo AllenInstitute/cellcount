{
 "metadata": {
  "language_info": {
   "codemirror_mode": {
    "name": "ipython",
    "version": 3
   },
   "file_extension": ".py",
   "mimetype": "text/x-python",
   "name": "python",
   "nbconvert_exporter": "python",
   "pygments_lexer": "ipython3",
   "version": "3.8.5-final"
  },
  "orig_nbformat": 2,
  "kernelspec": {
   "name": "python3",
   "display_name": "Python 3"
  }
 },
 "nbformat": 4,
 "nbformat_minor": 2,
 "cells": [
  {
   "cell_type": "code",
   "execution_count": 266,
   "metadata": {},
   "outputs": [],
   "source": [
    "import csv\n",
    "import os\n",
    "import glob\n",
    "import zarr\n",
    "import tifffile\n",
    "import numpy as np\n",
    "import dask.array as da\n",
    "from lxml import etree\n",
    "import napari\n",
    "\n",
    "%gui qt"
   ]
  },
  {
   "cell_type": "code",
   "execution_count": 251,
   "metadata": {},
   "outputs": [],
   "source": [
    "def convert_u16_to_u8(im_u16):\n",
    "    \"\"\"Converts a uint16 image into a uint8 image after scaling. \n",
    "    This function matches scripts used to produce uint8 .tif files from LIMS jp2 images. \n",
    "    \"\"\"\n",
    "    assert im_u16.dtype == 'uint16', \"Input must be uint16\"\n",
    "    return np.uint8(np.round(im_u16.astype(float)*(2**8)/(2**16-1)))"
   ]
  },
  {
   "cell_type": "code",
   "execution_count": 386,
   "metadata": {},
   "outputs": [],
   "source": [
    "slice_n = '0070'\n",
    "csv_path = '/Users/elyse.morin/OneDrive - Allen Institute/Transgenic_Technology_Elyse/Projects/Unet_test_output/547656/csv/'\n",
    "zarr_img_path = '/Users/elyse.morin/OneDrive - Allen Institute/Transgenic_Technology_Elyse/Projects/Unet_test_output/547656/zarr/'\n",
    "tif_img_crop_path = '/Users/elyse.morin/OneDrive - Allen Institute/Transgenic_Technology_Elyse/Projects/Unet_test_output/547656/tif_crop/'\n",
    "\n",
    "\n",
    "#get barcode/zarr file prefix\n",
    "files = glob.glob(str(zarr_img_path+'*.zarr'))\n",
    "head, tail = os.path.split(files[0])\n",
    "barcode = tail.split('-')[0]\n",
    "\n",
    "#read coordinates and image\n",
    "g_coord = np.loadtxt(str(csv_path+'/'+barcode+'-'+slice_n+'_g.csv'), skiprows=1, delimiter=',')[:,:2]\n",
    "r_coord = np.loadtxt(str(csv_path+'/'+barcode+'-'+slice_n+'_r.csv'), skiprows=1, delimiter=',')[:,:2]\n",
    "\n",
    "image = da.from_zarr(str(zarr_img_path+'/'+barcode+'-'+slice_n+'.zarr'))"
   ]
  },
  {
   "cell_type": "code",
   "execution_count": 440,
   "metadata": {
    "tags": []
   },
   "outputs": [],
   "source": [
    "#crop image\n",
    "nrow = 3\n",
    "ncolumn = 5\n",
    "\n",
    "image_crop_u16 = image[nrow*2048:(nrow+1)*2048,ncolumn*2048:(ncolumn+1)*2048,:]\n",
    "image_crop_u8 = convert_u16_to_u8(image_crop_u16)\n",
    "\n",
    "tifffile.imwrite(\n",
    "    tif_img_crop_path+barcode+'-'+slice_n+'_val_anno_'+str(nrow)+'_'+str(ncolumn)+'.tif',\n",
    "    image_crop_u8)\n",
    "\n",
    "#crop coordinates\n",
    "g_coord_crop = g_coord[(g_coord[:, 0] >= nrow*2048) & (g_coord[:, 0] < (nrow+1)*2048) & (g_coord[:, 1] >= ncolumn*2048) & (g_coord[:, 1] < (ncolumn+1)*2048)]\n",
    "r_coord_crop = r_coord[(r_coord[:, 0] >= nrow*2048) & (r_coord[:, 0] < (nrow+1)*2048) & (r_coord[:, 1] >= ncolumn*2048) & (r_coord[:, 1] < (ncolumn+1)*2048)]\n",
    "\n",
    "g_coord_crop[:, 0] -= nrow*2048\n",
    "g_coord_crop[:, 1] -= ncolumn*2048\n",
    "r_coord_crop[:, 0] -= nrow*2048\n",
    "r_coord_crop[:, 1] -= ncolumn*2048\n",
    "\n",
    "g_coord_crop_flipxy = np.flip(g_coord_crop, axis=1)\n",
    "r_coord_crop_flipxy = np.flip(r_coord_crop, axis=1)\n",
    "\n",
    "## Axes need to be flipped to be read into ImageJ correctly\n",
    "np.savetxt(tif_img_crop_path+barcode+'-'+slice_n+'_val_anno_'+str(nrow)+'_'+str(ncolumn)+'_g.csv', np.round(g_coord_crop_flipxy), fmt='%i', delimiter=\",\", header=\"x,y\", comments=\"\")\n",
    "np.savetxt(tif_img_crop_path+barcode+'-'+slice_n+'_val_anno_'+str(nrow)+'_'+str(ncolumn)+'_r.csv', np.round(r_coord_crop_flipxy), fmt='%i', delimiter=\",\", header=\"x,y\", comments=\"\")"
   ]
  },
  {
   "cell_type": "code",
   "execution_count": 441,
   "metadata": {},
   "outputs": [],
   "source": [
    "#csv to xml\n",
    "\n",
    "root=etree.Element('CellCounter_Marker_File')\n",
    "tree=etree.ElementTree(root)\n",
    "image_prop = etree.Element('Image_Properties')\n",
    "image_fname = etree.Element('Image_Filename')\n",
    "root.append(image_prop)\n",
    "image_prop.append(image_fname)\n",
    "image_fname.text=str(barcode+'-'+slice_n+'_val_anno_'+str(nrow)+'_'+str(ncolumn)+'.tif')\n",
    "\n",
    "marker_data = etree.Element('Marker_Data')\n",
    "root.append(marker_data)\n",
    "current_type1 = etree.Element('Current_Type')\n",
    "marker_data.append(current_type1)\n",
    "current_type1.text='1'\n",
    "marker_type1 = etree.Element('Marker_Type')\n",
    "marker_data.append(marker_type1)\n",
    "type1 = etree.Element('Type')\n",
    "type1.text = '1'\n",
    "marker_type1.append(type1)\n",
    "\n",
    "with open(tif_img_crop_path+barcode+'-'+slice_n+'_val_anno_'+str(nrow)+'_'+str(ncolumn)+'_g.csv') as f:\n",
    "    reader = csv.DictReader(f)\n",
    "    for row in reader:\n",
    "        row['MarkerX'] = row['x']\n",
    "        row['MarkerY'] = row['y']\n",
    "        del row['x']\n",
    "        del row['y']\n",
    "        row['MarkerZ'] = 1\n",
    "        surface_elem = etree.SubElement(marker_type1, \"Marker\")\n",
    "        for elem_name, elem_value in row.items():\n",
    "            etree.SubElement(surface_elem, elem_name.strip()).text = str(elem_value)\n",
    "\n",
    "marker_type2 = etree.Element('Marker_Type')\n",
    "marker_data.append(marker_type2)\n",
    "type2 = etree.Element('Type')\n",
    "type2.text = '2'\n",
    "marker_type2.append(type2)\n",
    "\n",
    "with open(tif_img_crop_path+barcode+'-'+slice_n+'_val_anno_'+str(nrow)+'_'+str(ncolumn)+'_r.csv') as f:\n",
    "    reader = csv.DictReader(f)\n",
    "    for row in reader:\n",
    "        row['MarkerX'] = row['x']\n",
    "        row['MarkerY'] = row['y']\n",
    "        del row['x']\n",
    "        del row['y']\n",
    "        row['MarkerZ'] = 1\n",
    "        surface_elem = etree.SubElement(marker_type2, \"Marker\")\n",
    "        for elem_name, elem_value in row.items():\n",
    "            etree.SubElement(surface_elem, elem_name.strip()).text = str(elem_value)\n",
    "\n",
    "tree.write(open(tif_img_crop_path+barcode+'-'+slice_n+'_val_anno_'+str(nrow)+'_'+str(ncolumn)+'.xml','wb'), pretty_print=True,encoding='UTF-8',xml_declaration=True)"
   ]
  },
  {
   "cell_type": "code",
   "execution_count": 442,
   "metadata": {},
   "outputs": [
    {
     "output_type": "execute_result",
     "data": {
      "text/plain": [
       "<Points layer 'r_coord_crop' at 0x17f545c40>"
      ]
     },
     "metadata": {},
     "execution_count": 442
    }
   ],
   "source": [
    "#view composite image with red and green labels\n",
    "viewer = napari.view_image(image_crop_u8, name='slice')\n",
    "viewer.add_points(g_coord_crop, size=5, face_color='lime',edge_color='lime')\n",
    "viewer.add_points(r_coord_crop, size=5, face_color='red',edge_color='red')"
   ]
  },
  {
   "cell_type": "code",
   "execution_count": 382,
   "metadata": {},
   "outputs": [
    {
     "output_type": "execute_result",
     "data": {
      "text/plain": [
       "<Points layer 'r_coord' at 0x16831d730>"
      ]
     },
     "metadata": {},
     "execution_count": 382
    }
   ],
   "source": [
    "#view composite image with red and green labels\n",
    "viewer = napari.view_image(image, name='slice')\n",
    "viewer.add_points(g_coord, size=5, face_color='lime',edge_color='lime')\n",
    "viewer.add_points(r_coord, size=5, face_color='red',edge_color='red')"
   ]
  },
  {
   "cell_type": "code",
   "execution_count": 296,
   "metadata": {},
   "outputs": [
    {
     "output_type": "execute_result",
     "data": {
      "text/plain": [
       "<Points layer 'g_coord' at 0x15e7df3d0>"
      ]
     },
     "metadata": {},
     "execution_count": 296
    }
   ],
   "source": [
    "#view green channel with labels\n",
    "viewer = napari.view_image(image[:,:,1], name='green channel')\n",
    "viewer.add_points(g_coord, size=5, face_color='lime',edge_color='lime')"
   ]
  }
 ]
}