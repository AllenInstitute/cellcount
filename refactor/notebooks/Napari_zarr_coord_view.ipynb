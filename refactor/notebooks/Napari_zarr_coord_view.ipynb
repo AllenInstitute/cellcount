{
 "cells": [
  {
   "cell_type": "code",
   "execution_count": 1,
   "metadata": {},
   "outputs": [],
   "source": [
    "import napari\n",
    "import numpy\n",
    "import dask.array as da\n",
    "import zarr\n",
    "import glob\n",
    "import os\n",
    "\n",
    "%gui qt"
   ]
  },
  {
   "cell_type": "code",
   "execution_count": 3,
   "metadata": {},
   "outputs": [],
   "source": [
    "#select slice between 0001 and 0140\n",
    "slice_n = '0070'\n",
    "csv_path = '/Users/elyse.morin/OneDrive - Allen Institute/Transgenic_Technology_Elyse/Projects/Unet_test_output/547656/csv/'\n",
    "zarr_img_path = '/Users/elyse.morin/OneDrive - Allen Institute/Transgenic_Technology_Elyse/Projects/Unet_test_output/547656/zarr/'\n",
    "\n",
    "#get barcode/zarr file prefix\n",
    "files = glob.glob(str(zarr_img_path+'*.zarr'))\n",
    "head, tail = os.path.split(files[0])\n",
    "barcode = tail.split('-')[0]\n",
    "\n",
    "#read coordinates and image\n",
    "g_coord = numpy.loadtxt(str(csv_path+'/'+barcode+'-'+slice_n+'_g.csv'), skiprows=1, delimiter=',')[:,:2]\n",
    "r_coord = numpy.loadtxt(str(csv_path+'/'+barcode+'-'+slice_n+'_r.csv'), skiprows=1, delimiter=',')[:,:2]\n",
    "\n",
    "image = da.from_zarr(str(zarr_img_path+'/'+barcode+'-'+slice_n+'.zarr'))"
   ]
  },
  {
   "cell_type": "code",
   "execution_count": 82,
   "metadata": {},
   "outputs": [
    {
     "name": "stderr",
     "output_type": "stream",
     "text": [
      "/usr/local/lib/python3.8/site-packages/napari/_vispy/vispy_image_layer.py:169: UserWarning: data shape (30000, 40000) exceeds GL_MAX_TEXTURE_SIZE 16384 in at least one axis and will be downsampled. Rendering is currently in 2D mode.\n",
      "  warnings.warn(\n",
      "/usr/local/lib/python3.8/site-packages/napari/_vispy/vispy_image_layer.py:169: UserWarning: data shape (30000, 40000) exceeds GL_MAX_TEXTURE_SIZE 16384 in at least one axis and will be downsampled. Rendering is currently in 2D mode.\n",
      "  warnings.warn(\n"
     ]
    },
    {
     "data": {
      "text/plain": [
       "<Points layer 'g_coord' at 0x255035700>"
      ]
     },
     "execution_count": 82,
     "metadata": {},
     "output_type": "execute_result"
    }
   ],
   "source": [
    "#view red channel with labels\n",
    "viewer = napari.view_image(image[:,:,0], name='red channel')\n",
    "viewer.add_points(r_coord, size=5, face_color='red',edge_color='red')\n",
    "\n",
    "#view green channel with labels\n",
    "viewer = napari.view_image(image[:,:,1], name='green channel')\n",
    "viewer.add_points(g_coord, size=5, face_color='lime',edge_color='lime')"
   ]
  },
  {
   "cell_type": "code",
   "execution_count": 62,
   "metadata": {},
   "outputs": [
    {
     "name": "stderr",
     "output_type": "stream",
     "text": [
      "/usr/local/lib/python3.8/site-packages/napari/_vispy/vispy_image_layer.py:169: UserWarning: data shape (30000, 40000, 3) exceeds GL_MAX_TEXTURE_SIZE 16384 in at least one axis and will be downsampled. Rendering is currently in 2D mode.\n",
      "  warnings.warn(\n"
     ]
    },
    {
     "data": {
      "text/plain": [
       "<Points layer 'g_coord' at 0x1dbf627c0>"
      ]
     },
     "execution_count": 62,
     "metadata": {},
     "output_type": "execute_result"
    }
   ],
   "source": [
    "#view composite image with red and green labels\n",
    "viewer = napari.view_image(image, name='slice')\n",
    "viewer.add_points(r_coord, size=5, face_color='red',edge_color='red')\n",
    "viewer.add_points(g_coord, size=5, face_color='lime',edge_color='lime')"
   ]
  }
 ],
 "metadata": {
  "kernelspec": {
   "display_name": "Python 3",
   "language": "python",
   "name": "python3"
  },
  "language_info": {
   "codemirror_mode": {
    "name": "ipython",
    "version": 3
   },
   "file_extension": ".py",
   "mimetype": "text/x-python",
   "name": "python",
   "nbconvert_exporter": "python",
   "pygments_lexer": "ipython3",
   "version": "3.7.7"
  }
 },
 "nbformat": 4,
 "nbformat_minor": 4
}
