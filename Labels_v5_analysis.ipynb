{
 "cells": [
  {
   "cell_type": "code",
   "execution_count": 1,
   "metadata": {},
   "outputs": [],
   "source": [
    "import _pickle as cPickle\n",
    "import pickle as Pickle\n",
    "%matplotlib qt"
   ]
  },
  {
   "cell_type": "code",
   "execution_count": 3,
   "metadata": {},
   "outputs": [],
   "source": [
    "with open('/home/rohan/Dropbox/AllenInstitute/CellCount/dat/results/' + 'Labelsv5_epochs_1-summary.pkl', 'rb') as file_pi:\n",
    "        summary = Pickle.load(file_pi)\n",
    "with open('/home/rohan/Dropbox/AllenInstitute/CellCount/dat/results/' + 'Labelsv5_epochs_2-summary.pkl', 'rb') as file_pi:\n",
    "        summary2 = Pickle.load(file_pi)\n",
    "with open('//home/rohan/Dropbox/AllenInstitute/CellCount/dat/results/' + 'Labelsv5_epochs_3-summary.pkl', 'rb') as file_pi:\n",
    "        summary3 = Pickle.load(file_pi)"
   ]
  },
  {
   "cell_type": "code",
   "execution_count": 4,
   "metadata": {},
   "outputs": [
    {
     "data": {
      "text/plain": [
       "[<matplotlib.lines.Line2D at 0x7efcc80feac8>]"
      ]
     },
     "execution_count": 4,
     "metadata": {},
     "output_type": "execute_result"
    },
    {
     "data": {
      "image/png": "[encoded data removed]",
      "text/plain": [
       "<Figure size 432x288 with 2 Axes>"
      ]
     },
     "metadata": {},
     "output_type": "display_data"
    }
   ],
   "source": [
    "import matplotlib.pyplot as plt\n",
    "plt.subplot(1,2,1)\n",
    "plt.plot(summary['acc']+summary2['acc']+summary3['acc'])\n",
    "plt.subplot(1,2,2)\n",
    "plt.plot(summary['loss']+summary2['loss']+summary3['loss'])"
   ]
  },
  {
   "cell_type": "code",
   "execution_count": 30,
   "metadata": {},
   "outputs": [],
   "source": [
    "import seaborn as sns\n",
    "y = np.array(summary3['acc'])\n",
    "x = np.arange(np.shape(y)[0])\n",
    "ax = sns.regplot(x=x, y=y, color=\"r\")\n",
    "axes = ax.axes"
   ]
  },
  {
   "cell_type": "code",
   "execution_count": 2,
   "metadata": {},
   "outputs": [],
   "source": [
    "# Adapted from https://github.com/zhixuhao/unet\n",
    "# In this version, the UNet is trained on 3 classes, and the network returns probabilities of a given pixel belonging to each class. \n",
    "# Labels: 0 = background\n",
    "# Labels: 1 = foreground\n",
    "# Labels: 2 = boundary\n",
    "\n",
    "import os\n",
    "import pdb\n",
    "import pickle as Pickle\n",
    "import sys\n",
    "import time\n",
    "import timeit\n",
    "from random import shuffle\n",
    "\n",
    "\n",
    "#import keras.activations.softmax as Softmax\n",
    "import matplotlib.pyplot as plt\n",
    "import numpy as np\n",
    "import scipy.io as sio\n",
    "import tensorflow as tf\n",
    "from keras import backend as K\n",
    "from keras.callbacks import LearningRateScheduler, ModelCheckpoint\n",
    "from keras.layers import (Concatenate, Conv2D, Cropping2D, Dropout, Input,\n",
    "                          MaxPooling2D, UpSampling2D, Dense, Activation)\n",
    "from keras.losses import binary_crossentropy, mean_squared_error\n",
    "from keras.models import Model\n",
    "from keras.optimizers import Adam\n",
    "from keras.utils import plot_model\n",
    "\n",
    "import _pickle as cPickle\n",
    "import fileIO\n",
    "import im3dscroll as I\n",
    "from custom_dataloader import DataGenerator\n",
    "from dataclass import dataset, combine_patches\n",
    "import pdb\n",
    "\n",
    "\n",
    "runmode = 'viewresult'#viewresult or train-new\n",
    "\n",
    "archid = 'Labelsv5_'\n",
    "nepochs = 1500\n",
    "batch_size = 4\n",
    "patchsize = 128\n",
    "save_period = 50\n",
    "\n",
    "viewrunid = 'Labelsv5_'\n",
    "base_path, rel_im_path, rel_lbl_path, rel_result_path = fileIO.set_paths()[0:4]\n",
    "runid = archid + 'epochs_' + str(nepochs) #+ time.strftime(\"%Y%m%d-%H%M%S\")\n",
    "\n",
    "\n",
    "#Training data \n",
    "train_fileid = ['123','77','60','57','167','68','113','157','143','109','175','95','74','131','111']\n",
    "train_data = dataset(train_fileid, batch_size=batch_size, patchsize=patchsize,\n",
    "                        getpatch_algo='random', npatches=10**1, fgfrac=.5,\n",
    "                        shuffle=True, rotate=True, flip=True)\n",
    "train_data.load_im_lbl()\n",
    "train_generator = DataGenerator(train_data)\n",
    "\n",
    "#Validation data \n",
    "val_fileid = ['53','119']\n",
    "val_data = dataset(val_fileid, batch_size=batch_size, patchsize=patchsize,\n",
    "                      getpatch_algo='stride', stride=(64, 64), padding=True,\n",
    "                      shuffle=False, rotate=False, flip=False)\n",
    "val_data.load_im_lbl()\n",
    "val_im,val_lbl = val_data.get_patches() #Validation data is not updated while training.\n",
    "\n",
    "#Define model\n",
    "conv_properties = {'activation': 'relu', 'padding': 'same', 'kernel_initializer': 'he_normal'}\n",
    "input_im = Input(shape=(128, 128, 1), name='input_im')\n",
    "\n",
    "conv1 = Conv2D(8, 3, **conv_properties)(input_im)   # (batch, 128,128,8)\n",
    "pool1 = MaxPooling2D(pool_size=(2, 2))(conv1)\t    # (batch, 64, 64, 8)\n",
    "\n",
    "conv2 = Conv2D(8, 3, **conv_properties)(pool1)      # (batch, 64, 64, 8)\n",
    "pool2 = MaxPooling2D(pool_size=(2, 2))(conv2)\t    # (batch, 32, 32, 8)\n",
    "\n",
    "conv3 = Conv2D(4, 3, **conv_properties)(pool2)\t\t# (batch, 32, 32, 4)\n",
    "pool3 = MaxPooling2D(pool_size=(2, 2))(conv3)\t    # (batch, 16, 16, 4)\n",
    "\n",
    "conv4 = Conv2D(4, 3, **conv_properties)(pool3)\t\t# (batch, 16, 16, 4)\n",
    "drop4 = Dropout(0.2)(conv4)\t\t\t\t\t\t    # (batch, 16, 16, 4)\n",
    "pool4 = MaxPooling2D(pool_size=(2, 2))(drop4)\t    # (batch, 8, 8, 4)\n",
    "\n",
    "conv5 = Conv2D(4, 3, **conv_properties)(pool4)\t\t# (batch, 8, 8, 4)\n",
    "drop5 = Dropout(0.2)(conv5)\t\t\t\t\t\t    # (batch, 8, 8, 4)\n",
    "\n",
    "up6 = UpSampling2D(size=(2, 2))(drop5)\t\t\t    # (batch, 16, 16, 4)\n",
    "up6 = Conv2D(4, 2, **conv_properties)(up6)\t\t    # (batch, 16, 16, 4)\n",
    "cat6 = Concatenate(axis=3)([drop4, up6])  \t\t    # (batch, 16, 16, 4)\n",
    "conv6 = Conv2D(4, 3, **conv_properties)(cat6)\t\t# (batch, 16, 16, 4)\n",
    "\n",
    "up7 = UpSampling2D(size=(2, 2))(conv6)\t\t\t    # (batch, 32, 32, 4)\n",
    "up7 = Conv2D(4, 2, **conv_properties)(up7)\t\t    # (batch, 32, 32, 4)\n",
    "cat7 = Concatenate(axis=3)([conv3, up7])\t\t    # (batch, 32, 32, 8)\n",
    "conv7 = Conv2D(4, 3, **conv_properties)(cat7)\t\t# (batch, 32, 32, 4)\n",
    "\n",
    "up8 = UpSampling2D(size=(2, 2))(conv7)\t\t\t    # (batch, 64, 64, 4)\n",
    "up8 = Conv2D(8, 2, **conv_properties)(up8)\t\t    # (batch, 64, 64, 8)\n",
    "cat8 = Concatenate(axis=3)([conv2, up8])  \t\t    # (batch, 64, 64, 16)\n",
    "conv8 = Conv2D(8, 3, **conv_properties)(cat8)\t\t# (batch, 64, 64, 8)\n",
    "\n",
    "up9 = UpSampling2D(size=(2, 2))(conv8)\t\t\t    # (batch, 128,128, 8)\n",
    "up9 = Conv2D(8, 2, **conv_properties)(up9)\t\t    # (batch, 128,128, 8)\n",
    "cat9 = Concatenate(axis=3)([conv1, up9])  \t\t    # (batch, 128,128, 16)\n",
    "conv9 = Conv2D(8, 3, **conv_properties)(cat9)\t\t# (batch, 128,128, 8) \n",
    "\n",
    "output_im = Conv2D(3,1, activation='softmax', name='output_im')(conv9)\n",
    "model = Model(inputs=[input_im], outputs=[output_im])\n",
    "\n",
    "\n",
    "def loss_fcn_wbce(y_true, y_pred):\n",
    "    all_weights = tf.cast(tf.stop_gradient(1. - tf.reduce_mean(y_pred, axis=[0, 1, 2])), dtype=tf.float32)\n",
    "    bce = -1. * K.mean((y_true * K.log(y_pred + K.epsilon())) + ((1. - y_true) * K.log(1. - y_pred + K.epsilon())),axis = [0,1,2])\n",
    "    wbce = all_weights * bce\n",
    "    return K.mean(wbce,axis = None)\n",
    "\n",
    "model.compile(optimizer=Adam(),\n",
    "              loss={'output_im': loss_fcn_wbce},\n",
    "              metrics=['accuracy'])\n",
    "\n",
    "\n",
    "#Load weights\n",
    "model.load_weights(base_path + rel_result_path + 'Labelsv5_epochs_1500' + '/' + '1500' + '.h5')\n",
    "\n"
   ]
  },
  {
   "cell_type": "code",
   "execution_count": 15,
   "metadata": {},
   "outputs": [
    {
     "name": "stdout",
     "output_type": "stream",
     "text": [
      "400/400 [==============================] - 2s 6ms/step\n",
      "400/400 [==============================] - 2s 6ms/step\n",
      "400/400 [==============================] - 2s 6ms/step\n",
      "400/400 [==============================] - 2s 6ms/step\n"
     ]
    }
   ],
   "source": []
  },
  {
   "cell_type": "code",
   "execution_count": 16,
   "metadata": {},
   "outputs": [],
   "source": []
  },
  {
   "cell_type": "code",
   "execution_count": 3,
   "metadata": {},
   "outputs": [
    {
     "name": "stdout",
     "output_type": "stream",
     "text": [
      "11750/11750 [==============================] - 147s 13ms/step\n",
      "11750/11750 [==============================] - 146s 12ms/step\n",
      "11750/11750 [==============================] - 145s 12ms/step\n",
      "11750/11750 [==============================] - 145s 12ms/step\n"
     ]
    }
   ],
   "source": [
    "#Load dataset\n",
    "#imlist = ['53','119','123','77','60','57','167','68','113','157','143','109','175','95','74','131','111']\n",
    "imlist = ['999']\n",
    "for imid in imlist:\n",
    "    D = dataset([imid], batch_size=4, patchsize=patchsize, getpatch_algo='stride',\n",
    "        shuffle=False, rotate=False, flip=False, stride=(patchsize,patchsize), padding=True)\n",
    "    D.load_im_lbl()\n",
    "    val_im,val_lbl = D.get_patches()\n",
    "\n",
    "    val_im_90 = np.rot90(val_im, k=1, axes=(1,2))\n",
    "    val_im_180 = np.rot90(val_im, k=2, axes=(1,2))\n",
    "    val_im_270 = np.rot90(val_im, k=3, axes=(1,2))\n",
    "\n",
    "    val_lbl_pred = model.predict(val_im, batch_size=1, verbose=1)\n",
    "    val_lbl_pred_90 = model.predict(val_im_90, batch_size=1, verbose=1)\n",
    "    val_lbl_pred_180 = model.predict(val_im_180, batch_size=1, verbose=1)\n",
    "    val_lbl_pred_270 = model.predict(val_im_270, batch_size=1, verbose=1)\n",
    "\n",
    "    val_lbl_pred_90 = np.rot90(val_lbl_pred_90, k=3, axes=(1,2))\n",
    "    val_lbl_pred_180 = np.rot90(val_lbl_pred_180, k=2, axes=(1,2))\n",
    "    val_lbl_pred_270 = np.rot90(val_lbl_pred_270, k=1, axes=(1,2))\n",
    "\n",
    "    val_lbl_pred = (val_lbl_pred+val_lbl_pred_90+val_lbl_pred_180+val_lbl_pred_270)/4\n",
    "\n",
    "    val_lbl_bg = np.expand_dims(val_lbl_pred[:,:,:,0],axis=3)\n",
    "    val_lbl_fg = np.expand_dims(val_lbl_pred[:,:,:,1],axis=3)\n",
    "    val_lbl_bo = np.expand_dims(val_lbl_pred[:,:,:,2],axis=3)\n",
    "    val_lbl_predicted = np.expand_dims(np.argmax(val_lbl_pred, axis=3),axis=3)"
   ]
  },
  {
   "cell_type": "code",
   "execution_count": 6,
   "metadata": {},
   "outputs": [],
   "source": [
    "val_lbl_full = combine_patches(val_lbl,patchsize=D.patchsize,stride=D.stride,imsize=D.im_buffer[0].shape,padding=True)\n",
    "val_im_full = combine_patches(val_im,patchsize=D.patchsize,stride=D.stride,imsize=D.im_buffer[0].shape,padding=True)\n",
    "\n",
    "#lbl_pred_full = combine_patches(val_lbl_pred,patchsize=D.patchsize,stride=D.stride,imsize=D.im_buffer[0].shape,padding=True)\n",
    "val_lbl_fg = combine_patches(val_lbl_fg,patchsize=D.patchsize,stride=D.stride,imsize=D.im_buffer[0].shape,padding=True)\n",
    "val_lbl_bo = combine_patches(val_lbl_bo,patchsize=D.patchsize,stride=D.stride,imsize=D.im_buffer[0].shape,padding=True)\n",
    "val_lbl_predicted = combine_patches(val_lbl_predicted,patchsize=D.patchsize,stride=D.stride,imsize=D.im_buffer[0].shape,padding=True)\n",
    "\n",
    "\n",
    "sio.savemat('/home/rohan/Desktop/' +'seg999'+'.mat',{'bo':val_lbl_bo,'fg':val_lbl_fg,'im':val_im_full})"
   ]
  },
  {
   "cell_type": "code",
   "execution_count": 5,
   "metadata": {},
   "outputs": [
    {
     "data": {
      "text/plain": [
       "(12000, 16000)"
      ]
     },
     "execution_count": 5,
     "metadata": {},
     "output_type": "execute_result"
    }
   ],
   "source": [
    "D.im_buffer[0].shape"
   ]
  },
  {
   "cell_type": "code",
   "execution_count": null,
   "metadata": {},
   "outputs": [],
   "source": []
  }
 ],
 "metadata": {
  "kernelspec": {
   "display_name": "Python 3",
   "language": "python",
   "name": "python3"
  },
  "language_info": {
   "codemirror_mode": {
    "name": "ipython",
    "version": 3
   },
   "file_extension": ".py",
   "mimetype": "text/x-python",
   "name": "python",
   "nbconvert_exporter": "python",
   "pygments_lexer": "ipython3",
   "version": "3.6.5"
  }
 },
 "nbformat": 4,
 "nbformat_minor": 2
}
